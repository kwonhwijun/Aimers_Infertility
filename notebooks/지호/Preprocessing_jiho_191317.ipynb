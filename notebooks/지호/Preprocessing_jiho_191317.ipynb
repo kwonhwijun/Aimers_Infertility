{
 "cells": [
  {
   "cell_type": "markdown",
   "metadata": {},
   "source": [
    "# Import"
   ]
  },
  {
   "cell_type": "code",
   "execution_count": 218,
   "metadata": {},
   "outputs": [],
   "source": [
    "import pandas as pd\n",
    "import numpy as np\n",
    "import matplotlib.pyplot as plt\n",
    "\n",
    "# 시각화시 한글 깨짐 방지\n",
    "import matplotlib.font_manager as fm\n",
    "plt.rc('font', family='NanumGothic')  # Linux 사용자의 경우\n",
    "# 마이너스 기호 깨짐 방지\n",
    "plt.rcParams['axes.unicode_minus'] = False\n",
    "\n",
    "from summarytools import dfSummary\n",
    "from sklearn.preprocessing import MinMaxScaler\n",
    "from sklearn.preprocessing import OneHotEncoder"
   ]
  },
  {
   "cell_type": "markdown",
   "metadata": {},
   "source": [
    "# Data Load"
   ]
  },
  {
   "cell_type": "code",
   "execution_count": 219,
   "metadata": {},
   "outputs": [],
   "source": [
    "train = pd.read_csv('./datasets/train.csv').drop(columns=['ID'])\n",
    "test = pd.read_csv('./datasets/test.csv').drop(columns=['ID'])"
   ]
  },
  {
   "cell_type": "markdown",
   "metadata": {},
   "source": [
    "## try"
   ]
  },
  {
   "cell_type": "code",
   "execution_count": 220,
   "metadata": {},
   "outputs": [],
   "source": [
    "# train.columns[train.isna().any()]"
   ]
  },
  {
   "cell_type": "code",
   "execution_count": 221,
   "metadata": {},
   "outputs": [],
   "source": [
    "# filtered_df = train[(train[\"시술 유형\"] == \"IVF\")][['동결 배아 사용 여부', '신선 배아 사용 여부', '기증 배아 사용 여부', '배아 이식 경과일']]\n",
    "\n",
    "# print(filtered_df.isna().sum(axis=1).value_counts())\n",
    "\n",
    "# # \"배아 이식 경과일\"이 NaN인 행만 필터링\n",
    "# filtered_m7 = filtered_df[filtered_df[\"배아 이식 경과일\"].isna()]\n",
    "\n",
    "# # 중복 제거\n",
    "# display(filtered_m7.drop_duplicates())\n",
    "# pd.DataFrame(filtered_m7.fillna(\"NaN\").value_counts())\n"
   ]
  },
  {
   "cell_type": "code",
   "execution_count": 222,
   "metadata": {},
   "outputs": [],
   "source": [
    "# filtered_df = test[(test[\"시술 유형\"] == \"IVF\")][['동결 배아 사용 여부', '신선 배아 사용 여부', '기증 배아 사용 여부', '배아 이식 경과일']]\n",
    "\n",
    "# print(filtered_df.isna().sum(axis=1).value_counts())\n",
    "\n",
    "# # \"배아 이식 경과일\"이 NaN인 행만 필터링\n",
    "# filtered_m7 = filtered_df[filtered_df[\"배아 이식 경과일\"].isna()]\n",
    "\n",
    "# # 중복 제거\n",
    "# display(filtered_m7.drop_duplicates())\n",
    "# pd.DataFrame(filtered_m7.fillna(\"NaN\").value_counts())"
   ]
  },
  {
   "cell_type": "code",
   "execution_count": 223,
   "metadata": {},
   "outputs": [],
   "source": [
    "# import seaborn as sns\n",
    "# import matplotlib.pyplot as plt\n",
    "\n",
    "# # 조합을 새로운 컬럼으로 추가\n",
    "# filtered_df[\"배아 사용 조합\"] = filtered_df[['동결 배아 사용 여부', '신선 배아 사용 여부', '기증 배아 사용 여부']].astype(str).agg('-'.join, axis=1)\n",
    "\n",
    "# # FacetGrid를 이용한 조합별 히스토그램\n",
    "# g = sns.FacetGrid(filtered_df, col=\"배아 사용 조합\", col_wrap=3, height=4, sharex=True, sharey=True)\n",
    "# g.map_dataframe(sns.histplot, x=\"배아 이식 경과일\", bins=30, kde=True)\n",
    "\n",
    "# plt.subplots_adjust(top=0.9)\n",
    "# g.fig.suptitle(\"배아 사용 조합 : 동결-신선-기증\")\n",
    "# plt.show()"
   ]
  },
  {
   "cell_type": "code",
   "execution_count": 224,
   "metadata": {},
   "outputs": [],
   "source": [
    "# # 결측 비율 계산\n",
    "# missing_ratio = (\n",
    "#     filtered_df.groupby(\"배아 사용 조합\")[\"배아 이식 경과일\"]\n",
    "#     .apply(lambda x: x.isna().mean())  # NaN 비율 계산\n",
    "#     .reset_index()\n",
    "# )\n",
    "\n",
    "# missing_ratio.columns = [\"배아 사용 조합\", \"결측 비율\"]\n",
    "\n",
    "# plt.figure(figsize=(12, 6))\n",
    "# sns.barplot(data=missing_ratio, x=\"배아 사용 조합\", y=\"결측 비율\", palette=\"coolwarm\")\n",
    "\n",
    "# plt.xticks(rotation=45, ha=\"right\")\n",
    "# plt.ylim(0, 1)\n",
    "# plt.ylabel(\"결측 비율\")\n",
    "# plt.xlabel(\"배아 사용 조합\")\n",
    "# plt.title(\"배아 사용 조합별 배아 이식 경과일 결측 비율\")\n",
    "# plt.show()"
   ]
  },
  {
   "cell_type": "markdown",
   "metadata": {},
   "source": [
    "# Data Pre-processing"
   ]
  },
  {
   "cell_type": "markdown",
   "metadata": {},
   "source": [
    "### try [배아 사용 조합에 따른 배아 이식 경과일 평균으로 결측 처리]\n",
    "- public 0.7407619508 -> 0.7409045012"
   ]
  },
  {
   "cell_type": "code",
   "execution_count": 225,
   "metadata": {},
   "outputs": [
    {
     "data": {
      "text/html": [
       "<style type=\"text/css\">\n",
       "#T_d6b8d thead>tr>th {\n",
       "  text-align: left;\n",
       "}\n",
       "#T_d6b8d_row0_col0, #T_d6b8d_row1_col0, #T_d6b8d_row2_col0, #T_d6b8d_row3_col0 {\n",
       "  text-align: left;\n",
       "  font-size: 12px;\n",
       "  vertical-align: middle;\n",
       "  width: 5%;\n",
       "  max-width: 50px;\n",
       "  min-width: 20px;\n",
       "}\n",
       "#T_d6b8d_row0_col1, #T_d6b8d_row1_col1, #T_d6b8d_row2_col1, #T_d6b8d_row3_col1 {\n",
       "  text-align: left;\n",
       "  font-size: 12px;\n",
       "  vertical-align: middle;\n",
       "  width: 15%;\n",
       "  max-width: 200px;\n",
       "  min-width: 100px;\n",
       "  word-break: break-word;\n",
       "}\n",
       "#T_d6b8d_row0_col2, #T_d6b8d_row1_col2, #T_d6b8d_row2_col2, #T_d6b8d_row3_col2 {\n",
       "  text-align: left;\n",
       "  font-size: 12px;\n",
       "  vertical-align: middle;\n",
       "  width: 30%;\n",
       "  min-width: 100px;\n",
       "}\n",
       "#T_d6b8d_row0_col3, #T_d6b8d_row1_col3, #T_d6b8d_row2_col3, #T_d6b8d_row3_col3 {\n",
       "  text-align: left;\n",
       "  font-size: 12px;\n",
       "  vertical-align: middle;\n",
       "  width: 25%;\n",
       "  min-width: 100px;\n",
       "}\n",
       "#T_d6b8d_row0_col4, #T_d6b8d_row1_col4, #T_d6b8d_row2_col4, #T_d6b8d_row3_col4 {\n",
       "  text-align: left;\n",
       "  font-size: 12px;\n",
       "  vertical-align: middle;\n",
       "  width: 20%;\n",
       "  min-width: 150px;\n",
       "}\n",
       "#T_d6b8d_row0_col5, #T_d6b8d_row1_col5, #T_d6b8d_row2_col5, #T_d6b8d_row3_col5 {\n",
       "  text-align: left;\n",
       "  font-size: 12px;\n",
       "  vertical-align: middle;\n",
       "  width: 10%;\n",
       "}\n",
       "</style>\n",
       "<table id=\"T_d6b8d\">\n",
       "  <caption><strong>Data Frame Summary</strong><br><br>Dimensions: 256,351 x 4<br>Duplicates: 256,306</caption>\n",
       "  <thead>\n",
       "    <tr>\n",
       "      <th id=\"T_d6b8d_level0_col0\" class=\"col_heading level0 col0\" >No</th>\n",
       "      <th id=\"T_d6b8d_level0_col1\" class=\"col_heading level0 col1\" >Variable</th>\n",
       "      <th id=\"T_d6b8d_level0_col2\" class=\"col_heading level0 col2\" >Stats / Values</th>\n",
       "      <th id=\"T_d6b8d_level0_col3\" class=\"col_heading level0 col3\" >Freqs / (% of Valid)</th>\n",
       "      <th id=\"T_d6b8d_level0_col4\" class=\"col_heading level0 col4\" >Graph</th>\n",
       "      <th id=\"T_d6b8d_level0_col5\" class=\"col_heading level0 col5\" >Missing</th>\n",
       "    </tr>\n",
       "  </thead>\n",
       "  <tbody>\n",
       "    <tr>\n",
       "      <td id=\"T_d6b8d_row0_col0\" class=\"data row0 col0\" >1</td>\n",
       "      <td id=\"T_d6b8d_row0_col1\" class=\"data row0 col1\" ><strong>동결 배아 사용 여부</strong><br>[float64]</td>\n",
       "      <td id=\"T_d6b8d_row0_col2\" class=\"data row0 col2\" >1. 0.0<br>2. 1.0<br>3. nan</td>\n",
       "      <td id=\"T_d6b8d_row0_col3\" class=\"data row0 col3\" >209,934 (81.9%)<br>40,126 (15.7%)<br>6,291 (2.5%)</td>\n",
       "      <td id=\"T_d6b8d_row0_col4\" class=\"data row0 col4\" ><img src = \"data:image/png;base64, iVBORw0KGgoAAAANSUhEUgAAAJsAAABFCAYAAABdVZTTAAAAOXRFWHRTb2Z0d2FyZQBNYXRwbG90bGliIHZlcnNpb24zLjkuMiwgaHR0cHM6Ly9tYXRwbG90bGliLm9yZy8hTgPZAAAACXBIWXMAAA9hAAAPYQGoP6dpAAABjklEQVR4nO3bQWrCUBiF0T9FSjtJEMHFuIgutovIbkR8g7Z0kg46qdjpuwl4zgZewE9DJHdYlqUg4WntC+BxDFX1WlXPa18Iq/heluUzddjucDi8jeO4Tx3IdrTWLsMwvKeC243juD+dTp/TNH0lDmQbrtfryzzP+/P5/FxVmdiqqqZp+joejx+JA9mU1+RhHhCIERsxYiNGbMSIjRixESM2YsRGjNiIERsxYiNGbMSIjRixEbOr+n23ae0LIWuNz3zXWrvM87yv8LtNrK+1dqmq79R5NgiPLbpBGEz5SEn8skW/PWxX93VVesHDdnVdV62x4GG7EusqT7lUlT91CRIbMWIjRmzEiI0YsREjNmLERozYiBEbMWIjRmzEiI0YsRHTdV1ltcVf3ddV6QUP22WDQIx1FTEeEIj57zbqtkcXd1M+0zt6uZnymd7R039TPtM7uvCAQIzYiBEbMWIjRmzEiI0YsREjNmLERozYiBEbMWIjRmzEiI2Ymymf6R093U35TO/oxQaBGFM+Yn4ASryjShr/3MkAAAAASUVORK5CYII=\"></img></td>\n",
       "      <td id=\"T_d6b8d_row0_col5\" class=\"data row0 col5\" >6,291<br>(2.5%)</td>\n",
       "    </tr>\n",
       "    <tr>\n",
       "      <td id=\"T_d6b8d_row1_col0\" class=\"data row1 col0\" >2</td>\n",
       "      <td id=\"T_d6b8d_row1_col1\" class=\"data row1 col1\" ><strong>신선 배아 사용 여부</strong><br>[float64]</td>\n",
       "      <td id=\"T_d6b8d_row1_col2\" class=\"data row1 col2\" >1. 1.0<br>2. 0.0<br>3. nan</td>\n",
       "      <td id=\"T_d6b8d_row1_col3\" class=\"data row1 col3\" >210,136 (82.0%)<br>39,924 (15.6%)<br>6,291 (2.5%)</td>\n",
       "      <td id=\"T_d6b8d_row1_col4\" class=\"data row1 col4\" ><img src = \"data:image/png;base64, iVBORw0KGgoAAAANSUhEUgAAAJsAAABFCAYAAABdVZTTAAAAOXRFWHRTb2Z0d2FyZQBNYXRwbG90bGliIHZlcnNpb24zLjkuMiwgaHR0cHM6Ly9tYXRwbG90bGliLm9yZy8hTgPZAAAACXBIWXMAAA9hAAAPYQGoP6dpAAABjklEQVR4nO3bQWrCUBiF0T9FSjtJEMHFuIgutovIbkR8g7Z0kg46qdjpuwl4zgZewE9DJHdYlqUg4WntC+BxDFX1WlXPa18Iq/heluUzddjucDi8jeO4Tx3IdrTWLsMwvKeC243juD+dTp/TNH0lDmQbrtfryzzP+/P5/FxVmdiqqqZp+joejx+JA9mU1+RhHhCIERsxYiNGbMSIjRixESM2YsRGjNiIERsxYiNGbMSIjRixEbOr+n23ae0LIWuNz3zXWrvM87yv8LtNrK+1dqmq79R5NgiPLbpBGEz5SEn8skW/PWxX93VVesHDdnVdV62x4GG7EusqT7lUlT91CRIbMWIjRmzEiI0YsREjNmLERozYiBEbMWIjRmzEiI0YsRHTdV1ltcVf3ddV6QUP22WDQIx1FTEeEIj57zbqtkcXd1M+0zt6uZnymd7R039TPtM7uvCAQIzYiBEbMWIjRmzEiI0YsREjNmLERozYiBEbMWIjRmzEiI2Ymymf6R093U35TO/oxQaBGFM+Yn4ASryjShr/3MkAAAAASUVORK5CYII=\"></img></td>\n",
       "      <td id=\"T_d6b8d_row1_col5\" class=\"data row1 col5\" >6,291<br>(2.5%)</td>\n",
       "    </tr>\n",
       "    <tr>\n",
       "      <td id=\"T_d6b8d_row2_col0\" class=\"data row2 col0\" >3</td>\n",
       "      <td id=\"T_d6b8d_row2_col1\" class=\"data row2 col1\" ><strong>기증 배아 사용 여부</strong><br>[float64]</td>\n",
       "      <td id=\"T_d6b8d_row2_col2\" class=\"data row2 col2\" >1. 0.0<br>2. nan<br>3. 1.0</td>\n",
       "      <td id=\"T_d6b8d_row2_col3\" class=\"data row2 col3\" >247,602 (96.6%)<br>6,291 (2.5%)<br>2,458 (1.0%)</td>\n",
       "      <td id=\"T_d6b8d_row2_col4\" class=\"data row2 col4\" ><img src = \"data:image/png;base64, iVBORw0KGgoAAAANSUhEUgAAAJsAAABFCAYAAABdVZTTAAAAOXRFWHRTb2Z0d2FyZQBNYXRwbG90bGliIHZlcnNpb24zLjkuMiwgaHR0cHM6Ly9tYXRwbG90bGliLm9yZy8hTgPZAAAACXBIWXMAAA9hAAAPYQGoP6dpAAABmUlEQVR4nO3cMWrbcBjG4U9BhGaREAIfxofIYXsI3cYYa0hCFnVoSp3aWYr1CpznGTX9hx+WZfS6WZalIOFh6wPwfTRV9VRVj1sfhLvzvizL6/mFdhzH567rhq1OxH2a5/nYNM3P8+DaruuG/X7/2vf925aH436cTqcf0zQNh8Phsar+xlZV1ff92263e9nsdNyjp38veEAgRmzEiI0YsREjNmLERozYiBEbMWIjRmzEiI0YsREjNmLERkxb9fv9o60Pwv34qqd2nufjNE1DXXn/CP7XPM/Hqno/v2aDwFouNgiNKR8p1z7ZLoqEW7hYV11bxcAtfFpXfbWKgVu4tq7yVMoq/KhLjNiIERsxYiNGbMSIjRixESM2YsRGjNiIERsxYiNGbMSIjZhP6yorK9Z0sa66toqBW7BBIMa6ihgPCMT8uY2WWydra8dxfK6qMt9jbQ9d1w0fu1F/wcCqfGcjRmzEiI0YsREjNmLERozYiBEbMWIjRmzEiI0YsREjNmLERozYiBEbMe3HdK/KfI+V2SAQY8pHzC8Q0oNsdhqPbAAAAABJRU5ErkJggg==\"></img></td>\n",
       "      <td id=\"T_d6b8d_row2_col5\" class=\"data row2 col5\" >6,291<br>(2.5%)</td>\n",
       "    </tr>\n",
       "    <tr>\n",
       "      <td id=\"T_d6b8d_row3_col0\" class=\"data row3 col0\" >4</td>\n",
       "      <td id=\"T_d6b8d_row3_col1\" class=\"data row3 col1\" ><strong>배아 이식 경과일</strong><br>[float64]</td>\n",
       "      <td id=\"T_d6b8d_row3_col2\" class=\"data row3 col2\" >1. 5.0<br>2. 3.0<br>3. nan<br>4. 2.0<br>5. 0.0<br>6. 1.0<br>7. 4.0<br>8. 6.0<br>9. 7.0</td>\n",
       "      <td id=\"T_d6b8d_row3_col3\" class=\"data row3 col3\" >81,459 (31.8%)<br>57,924 (22.6%)<br>43,566 (17.0%)<br>35,078 (13.7%)<br>24,904 (9.7%)<br>6,053 (2.4%)<br>4,504 (1.8%)<br>2,773 (1.1%)<br>90 (0.0%)</td>\n",
       "      <td id=\"T_d6b8d_row3_col4\" class=\"data row3 col4\" ><img src = \"data:image/png;base64, iVBORw0KGgoAAAANSUhEUgAAAJsAAADPCAYAAADifqNtAAAAOXRFWHRTb2Z0d2FyZQBNYXRwbG90bGliIHZlcnNpb24zLjkuMiwgaHR0cHM6Ly9tYXRwbG90bGliLm9yZy8hTgPZAAAACXBIWXMAAA9hAAAPYQGoP6dpAAADyElEQVR4nO3dMW7bWBiF0Z+EkIkaCoIBL2HSeQFaRBabRWgBLmcPhmEWo0wapUhmYI8dO5L8Lmn5nC7dKz48gQSv0+33+4KEfuoD8H6IjRixESM2YsRGjNiIERsxXVUtq+rD1Ac50bf9fr+b+hA8b3FxcfF5GIb11Ac5xTiOt13XfRHcvC2GYVhvNpvdarX6OvVhjnF3d/dxu92ub25uPlSV2GZsUVW1Wq2+Xl5e/j31YU6wnPoAvMwDAjFiI0ZsxIiNGLERIzZixEaM2IgRGzFiI0ZsxIiNGLERs6j68ZnO1Ac51ls++3uzGMfxdrvdrusNf6YzjuNtVX2b+hw8z2fhxHT+1gcpc7vZ3FBnbFaDF8OV8zabwYvhyvmb2+DlzT4R8zIvdYkRGzFiI0ZsxIiNGLERIzZixEaM2IgRGzFiI0ZsxIiNmNkMXuZwBtqa1eDFcOW8+SycGIMXYjwgEJP8GfUT+c7F1lWWU0TWVZZTVGXXVZO/WmFaHhCIERsxYiNGbMSIjRixESM2YsRGjNiIERsxYiNGbMSIjZjIuspyiqrguspyCp+FE2NdRUyrm80txiNNBi/GLTzl1Qcvxi38SqvBi3ELj3ipS4zYiBEbMWIjRmzEiI0YsREjNmLERozYiBEbMWIjRmzEvPrgxbiFX2kyeDFu4Sk+CyfG4IWYU282Nxi/7aTBi2ELhzh68GLYwqFOHbwYtvDbvNQlRmzEiI0YsREjNmLERozYiBEbMWIjRmzEiI0YsREjNmLERszR6yorKg510rrKiopD2CAQY11FzFM3m9uKJh6tqyymaOXBuspiipaeWldZTNGEl7rEiI0YsREjNmLERozYiBEbMWIjRmzEiI0YsREjNmLERsyDwYsRCy09GrwYsdCKz8KJMXgh5v83m1uNZh4MXoxdaKn/d/Cy2Wx2P6N77f8OEqrq3uDl57+NXWjGS11ixEaM2IgRGzFiI0ZsxIiNGLERIzZixEaM2IgRGzFiI0ZsxBz93wnBoe6vqyyraMoGgRjrKmLu32xuNZr6b11lWUVr/TAM66urq7KsorW+qmq5XP4z9UE4f17qEiM2YsRGjNiIERsxYiNGbMSIjRixESM2YsRGjNiIERsxfVXVbrf7Y+qDcP76cRxvr6+vjV1ozmfhxBi8EOMBgZi+67pPXddZxNNcX1V/VpWnUZrzM0qM2IgRGzFiI0ZsxIiNGLERIzZixEaM2IgRGzFiI0ZsxIiNGLERIzZi+qr6q6r8AWeaM3ghxs8oMWIjRmzEiI0YsREjNmLERsx3Z0qYadyTvP0AAAAASUVORK5CYII=\"></img></td>\n",
       "      <td id=\"T_d6b8d_row3_col5\" class=\"data row3 col5\" >43,566<br>(17.0%)</td>\n",
       "    </tr>\n",
       "  </tbody>\n",
       "</table>\n"
      ],
      "text/plain": [
       "<pandas.io.formats.style.Styler at 0x7ff54ef1a7e0>"
      ]
     },
     "execution_count": 225,
     "metadata": {},
     "output_type": "execute_result"
    }
   ],
   "source": [
    "dfSummary(train[['동결 배아 사용 여부', '신선 배아 사용 여부', '기증 배아 사용 여부', \"배아 이식 경과일\"]])"
   ]
  },
  {
   "cell_type": "code",
   "execution_count": 226,
   "metadata": {},
   "outputs": [
    {
     "name": "stdout",
     "output_type": "stream",
     "text": [
      "배아 사용 조합에 따른 IVF 배아 이식 경과일의 평균 : \n",
      "배아 사용 조합\n",
      "0.0-0.0-0.0    5.000000\n",
      "0.0-1.0-0.0    3.794576\n",
      "0.0-1.0-1.0    4.119822\n",
      "1.0-0.0-0.0    0.665287\n",
      "1.0-0.0-1.0    0.332629\n",
      "1.0-1.0-0.0    3.053922\n",
      "Name: 배아 이식 경과일, dtype: float64\n"
     ]
    }
   ],
   "source": [
    "def fill_missing_embryo_days(train_df, test_df):\n",
    "    \"\"\"\n",
    "    '시술 유형'이 'IVF'인 경우에만 배아 사용 조합에 따른 배아 이식 경과일 결측값을 채우는 함수\n",
    "    \"\"\"\n",
    "\n",
    "    # IVF 조건 필터링\n",
    "    train_ivf = train_df[train_df[\"시술 유형\"] == \"IVF\"].copy()\n",
    "    test_ivf = test_df[test_df[\"시술 유형\"] == \"IVF\"].copy()\n",
    "\n",
    "    # 배아 사용 조합 컬럼 생성\n",
    "    train_ivf[\"배아 사용 조합\"] = train_ivf[['동결 배아 사용 여부', '신선 배아 사용 여부', '기증 배아 사용 여부']].astype(str).agg('-'.join, axis=1)\n",
    "    test_ivf[\"배아 사용 조합\"] = test_ivf[['동결 배아 사용 여부', '신선 배아 사용 여부', '기증 배아 사용 여부']].astype(str).agg('-'.join, axis=1)\n",
    "\n",
    "    # 학습 데이터에서 조합별 평균값 계산\n",
    "    mean_days_by_group = train_ivf.groupby(\"배아 사용 조합\")[\"배아 이식 경과일\"].mean()\n",
    "    \n",
    "\n",
    "    # 학습 데이터 결측값 채우기\n",
    "    train_ivf[\"배아 이식 경과일\"] = train_ivf.apply(\n",
    "        lambda row: mean_days_by_group[row[\"배아 사용 조합\"]] if pd.isna(row[\"배아 이식 경과일\"]) else row[\"배아 이식 경과일\"],\n",
    "        axis=1\n",
    "    )\n",
    "\n",
    "    # 테스트 데이터 결측값 채우기 (train에서 계산된 평균 사용)\n",
    "    test_ivf[\"배아 이식 경과일\"] = test_ivf.apply(\n",
    "        lambda row: mean_days_by_group.get(row[\"배아 사용 조합\"], row[\"배아 이식 경과일\"]) if pd.isna(row[\"배아 이식 경과일\"]) else row[\"배아 이식 경과일\"],\n",
    "        axis=1\n",
    "    )\n",
    "\n",
    "    # 원본 데이터에 반영\n",
    "    train_df.loc[train_df[\"시술 유형\"] == \"IVF\", \"배아 이식 경과일\"] = train_ivf[\"배아 이식 경과일\"]\n",
    "    test_df.loc[test_df[\"시술 유형\"] == \"IVF\", \"배아 이식 경과일\"] = test_ivf[\"배아 이식 경과일\"]\n",
    "    \n",
    "    print(f\"배아 사용 조합에 따른 IVF 배아 이식 경과일의 평균 : \\n{mean_days_by_group}\")\n",
    "\n",
    "    return train_df, test_df\n",
    "\n",
    "train_, test_ = fill_missing_embryo_days(train, test)"
   ]
  },
  {
   "cell_type": "code",
   "execution_count": 227,
   "metadata": {},
   "outputs": [
    {
     "data": {
      "text/html": [
       "<style type=\"text/css\">\n",
       "#T_f169a thead>tr>th {\n",
       "  text-align: left;\n",
       "}\n",
       "#T_f169a_row0_col0, #T_f169a_row1_col0, #T_f169a_row2_col0, #T_f169a_row3_col0 {\n",
       "  text-align: left;\n",
       "  font-size: 12px;\n",
       "  vertical-align: middle;\n",
       "  width: 5%;\n",
       "  max-width: 50px;\n",
       "  min-width: 20px;\n",
       "}\n",
       "#T_f169a_row0_col1, #T_f169a_row1_col1, #T_f169a_row2_col1, #T_f169a_row3_col1 {\n",
       "  text-align: left;\n",
       "  font-size: 12px;\n",
       "  vertical-align: middle;\n",
       "  width: 15%;\n",
       "  max-width: 200px;\n",
       "  min-width: 100px;\n",
       "  word-break: break-word;\n",
       "}\n",
       "#T_f169a_row0_col2, #T_f169a_row1_col2, #T_f169a_row2_col2, #T_f169a_row3_col2 {\n",
       "  text-align: left;\n",
       "  font-size: 12px;\n",
       "  vertical-align: middle;\n",
       "  width: 30%;\n",
       "  min-width: 100px;\n",
       "}\n",
       "#T_f169a_row0_col3, #T_f169a_row1_col3, #T_f169a_row2_col3, #T_f169a_row3_col3 {\n",
       "  text-align: left;\n",
       "  font-size: 12px;\n",
       "  vertical-align: middle;\n",
       "  width: 25%;\n",
       "  min-width: 100px;\n",
       "}\n",
       "#T_f169a_row0_col4, #T_f169a_row1_col4, #T_f169a_row2_col4, #T_f169a_row3_col4 {\n",
       "  text-align: left;\n",
       "  font-size: 12px;\n",
       "  vertical-align: middle;\n",
       "  width: 20%;\n",
       "  min-width: 150px;\n",
       "}\n",
       "#T_f169a_row0_col5, #T_f169a_row1_col5, #T_f169a_row2_col5, #T_f169a_row3_col5 {\n",
       "  text-align: left;\n",
       "  font-size: 12px;\n",
       "  vertical-align: middle;\n",
       "  width: 10%;\n",
       "}\n",
       "</style>\n",
       "<table id=\"T_f169a\">\n",
       "  <caption><strong>Data Frame Summary</strong><br><br>Dimensions: 256,351 x 4<br>Duplicates: 256,306</caption>\n",
       "  <thead>\n",
       "    <tr>\n",
       "      <th id=\"T_f169a_level0_col0\" class=\"col_heading level0 col0\" >No</th>\n",
       "      <th id=\"T_f169a_level0_col1\" class=\"col_heading level0 col1\" >Variable</th>\n",
       "      <th id=\"T_f169a_level0_col2\" class=\"col_heading level0 col2\" >Stats / Values</th>\n",
       "      <th id=\"T_f169a_level0_col3\" class=\"col_heading level0 col3\" >Freqs / (% of Valid)</th>\n",
       "      <th id=\"T_f169a_level0_col4\" class=\"col_heading level0 col4\" >Graph</th>\n",
       "      <th id=\"T_f169a_level0_col5\" class=\"col_heading level0 col5\" >Missing</th>\n",
       "    </tr>\n",
       "  </thead>\n",
       "  <tbody>\n",
       "    <tr>\n",
       "      <td id=\"T_f169a_row0_col0\" class=\"data row0 col0\" >1</td>\n",
       "      <td id=\"T_f169a_row0_col1\" class=\"data row0 col1\" ><strong>동결 배아 사용 여부</strong><br>[float64]</td>\n",
       "      <td id=\"T_f169a_row0_col2\" class=\"data row0 col2\" >1. 0.0<br>2. 1.0<br>3. nan</td>\n",
       "      <td id=\"T_f169a_row0_col3\" class=\"data row0 col3\" >209,934 (81.9%)<br>40,126 (15.7%)<br>6,291 (2.5%)</td>\n",
       "      <td id=\"T_f169a_row0_col4\" class=\"data row0 col4\" ><img src = \"data:image/png;base64, iVBORw0KGgoAAAANSUhEUgAAAJsAAABFCAYAAABdVZTTAAAAOXRFWHRTb2Z0d2FyZQBNYXRwbG90bGliIHZlcnNpb24zLjkuMiwgaHR0cHM6Ly9tYXRwbG90bGliLm9yZy8hTgPZAAAACXBIWXMAAA9hAAAPYQGoP6dpAAABjklEQVR4nO3bQWrCUBiF0T9FSjtJEMHFuIgutovIbkR8g7Z0kg46qdjpuwl4zgZewE9DJHdYlqUg4WntC+BxDFX1WlXPa18Iq/heluUzddjucDi8jeO4Tx3IdrTWLsMwvKeC243juD+dTp/TNH0lDmQbrtfryzzP+/P5/FxVmdiqqqZp+joejx+JA9mU1+RhHhCIERsxYiNGbMSIjRixESM2YsRGjNiIERsxYiNGbMSIjRixEbOr+n23ae0LIWuNz3zXWrvM87yv8LtNrK+1dqmq79R5NgiPLbpBGEz5SEn8skW/PWxX93VVesHDdnVdV62x4GG7EusqT7lUlT91CRIbMWIjRmzEiI0YsREjNmLERozYiBEbMWIjRmzEiI0YsRHTdV1ltcVf3ddV6QUP22WDQIx1FTEeEIj57zbqtkcXd1M+0zt6uZnymd7R039TPtM7uvCAQIzYiBEbMWIjRmzEiI0YsREjNmLERozYiBEbMWIjRmzEiI2Ymymf6R093U35TO/oxQaBGFM+Yn4ASryjShr/3MkAAAAASUVORK5CYII=\"></img></td>\n",
       "      <td id=\"T_f169a_row0_col5\" class=\"data row0 col5\" >6,291<br>(2.5%)</td>\n",
       "    </tr>\n",
       "    <tr>\n",
       "      <td id=\"T_f169a_row1_col0\" class=\"data row1 col0\" >2</td>\n",
       "      <td id=\"T_f169a_row1_col1\" class=\"data row1 col1\" ><strong>신선 배아 사용 여부</strong><br>[float64]</td>\n",
       "      <td id=\"T_f169a_row1_col2\" class=\"data row1 col2\" >1. 1.0<br>2. 0.0<br>3. nan</td>\n",
       "      <td id=\"T_f169a_row1_col3\" class=\"data row1 col3\" >210,136 (82.0%)<br>39,924 (15.6%)<br>6,291 (2.5%)</td>\n",
       "      <td id=\"T_f169a_row1_col4\" class=\"data row1 col4\" ><img src = \"data:image/png;base64, iVBORw0KGgoAAAANSUhEUgAAAJsAAABFCAYAAABdVZTTAAAAOXRFWHRTb2Z0d2FyZQBNYXRwbG90bGliIHZlcnNpb24zLjkuMiwgaHR0cHM6Ly9tYXRwbG90bGliLm9yZy8hTgPZAAAACXBIWXMAAA9hAAAPYQGoP6dpAAABjklEQVR4nO3bQWrCUBiF0T9FSjtJEMHFuIgutovIbkR8g7Z0kg46qdjpuwl4zgZewE9DJHdYlqUg4WntC+BxDFX1WlXPa18Iq/heluUzddjucDi8jeO4Tx3IdrTWLsMwvKeC243juD+dTp/TNH0lDmQbrtfryzzP+/P5/FxVmdiqqqZp+joejx+JA9mU1+RhHhCIERsxYiNGbMSIjRixESM2YsRGjNiIERsxYiNGbMSIjRixEbOr+n23ae0LIWuNz3zXWrvM87yv8LtNrK+1dqmq79R5NgiPLbpBGEz5SEn8skW/PWxX93VVesHDdnVdV62x4GG7EusqT7lUlT91CRIbMWIjRmzEiI0YsREjNmLERozYiBEbMWIjRmzEiI0YsRHTdV1ltcVf3ddV6QUP22WDQIx1FTEeEIj57zbqtkcXd1M+0zt6uZnymd7R039TPtM7uvCAQIzYiBEbMWIjRmzEiI0YsREjNmLERozYiBEbMWIjRmzEiI2Ymymf6R093U35TO/oxQaBGFM+Yn4ASryjShr/3MkAAAAASUVORK5CYII=\"></img></td>\n",
       "      <td id=\"T_f169a_row1_col5\" class=\"data row1 col5\" >6,291<br>(2.5%)</td>\n",
       "    </tr>\n",
       "    <tr>\n",
       "      <td id=\"T_f169a_row2_col0\" class=\"data row2 col0\" >3</td>\n",
       "      <td id=\"T_f169a_row2_col1\" class=\"data row2 col1\" ><strong>기증 배아 사용 여부</strong><br>[float64]</td>\n",
       "      <td id=\"T_f169a_row2_col2\" class=\"data row2 col2\" >1. 0.0<br>2. nan<br>3. 1.0</td>\n",
       "      <td id=\"T_f169a_row2_col3\" class=\"data row2 col3\" >247,602 (96.6%)<br>6,291 (2.5%)<br>2,458 (1.0%)</td>\n",
       "      <td id=\"T_f169a_row2_col4\" class=\"data row2 col4\" ><img src = \"data:image/png;base64, iVBORw0KGgoAAAANSUhEUgAAAJsAAABFCAYAAABdVZTTAAAAOXRFWHRTb2Z0d2FyZQBNYXRwbG90bGliIHZlcnNpb24zLjkuMiwgaHR0cHM6Ly9tYXRwbG90bGliLm9yZy8hTgPZAAAACXBIWXMAAA9hAAAPYQGoP6dpAAABmUlEQVR4nO3cMWrbcBjG4U9BhGaREAIfxofIYXsI3cYYa0hCFnVoSp3aWYr1CpznGTX9hx+WZfS6WZalIOFh6wPwfTRV9VRVj1sfhLvzvizL6/mFdhzH567rhq1OxH2a5/nYNM3P8+DaruuG/X7/2vf925aH436cTqcf0zQNh8Phsar+xlZV1ff92263e9nsdNyjp38veEAgRmzEiI0YsREjNmLERozYiBEbMWIjRmzEiI0YsREjNmLERkxb9fv9o60Pwv34qqd2nufjNE1DXXn/CP7XPM/Hqno/v2aDwFouNgiNKR8p1z7ZLoqEW7hYV11bxcAtfFpXfbWKgVu4tq7yVMoq/KhLjNiIERsxYiNGbMSIjRixESM2YsRGjNiIERsxYiNGbMSIjZhP6yorK9Z0sa66toqBW7BBIMa6ihgPCMT8uY2WWydra8dxfK6qMt9jbQ9d1w0fu1F/wcCqfGcjRmzEiI0YsREjNmLERozYiBEbMWIjRmzEiI0YsREjNmLERozYiBEbMe3HdK/KfI+V2SAQY8pHzC8Q0oNsdhqPbAAAAABJRU5ErkJggg==\"></img></td>\n",
       "      <td id=\"T_f169a_row2_col5\" class=\"data row2 col5\" >6,291<br>(2.5%)</td>\n",
       "    </tr>\n",
       "    <tr>\n",
       "      <td id=\"T_f169a_row3_col0\" class=\"data row3 col0\" >4</td>\n",
       "      <td id=\"T_f169a_row3_col1\" class=\"data row3 col1\" ><strong>배아 이식 경과일</strong><br>[float64]</td>\n",
       "      <td id=\"T_f169a_row3_col2\" class=\"data row3 col2\" >Mean (sd) : 3.3 (1.6)<br>min < med < max:<br>0.0 < 3.0 < 7.0<br>IQR (CV) : 3.0 (2.0)</td>\n",
       "      <td id=\"T_f169a_row3_col3\" class=\"data row3 col3\" >13 distinct values</td>\n",
       "      <td id=\"T_f169a_row3_col4\" class=\"data row3 col4\" ><img src = \"data:image/png;base64, iVBORw0KGgoAAAANSUhEUgAAAKoAAABGCAYAAABc8A97AAAAOXRFWHRTb2Z0d2FyZQBNYXRwbG90bGliIHZlcnNpb24zLjkuMiwgaHR0cHM6Ly9tYXRwbG90bGliLm9yZy8hTgPZAAAACXBIWXMAAA9hAAAPYQGoP6dpAAACeUlEQVR4nO3cv27aUBiG8e+UPzFQGRAtbKwMlTowchG92F5CB1YW7oANySAjXAhg3KFLBkhisMGv9fz2E51ITwgHvmOXJIkBRffl2RsAPqP67A0gW865hpnVb1x+SJJkl+V+skKoJeKca/R6vV++73dvWb/ZbNbOud9FjJVQy6Xu+353Mpns2u32Ps3CMAy96XTaDYKgbmaEivy12+19v9//e8PSRuabyQiHKUggVEggVEggVEggVEggVEggVEggVEggVEggVEggVEggVEggVEggVEggVEggVEhgcPqKst49UkWoF5T57pEqQr2stHePVBHqO8p490gVhylIIFRIIFRIIFRIIFRIIFRIIFRIIFRIIFRIIFRIIFRI4Lv+HMRxXDMz3zl3y3JGBC8g1IxFUVQ7Ho8/h8NhpVKppJq8MmNE8BpCzdjhcKh6ntccj8f7wWCwTrOWEcHrCh2q8pR9q9ViRDBDhQ2VKXu8VdhQjSl7vFHkUM2MKXv8x+eokECokPDhv37lkzfK491QOXmjKD56ReXkjUL41KmfkzeejcMUJBAqJBAqJBAqJBAqJBAqJBAqJBAqJBAqJBAqJBAqJBAqJBAqJBAqJOR6ue/OR9v45/O5lvGWICq3UO99tM3xePTiOP6x3+//mNkts7AokdxCvefRNmZmi8WiO5/Pm6fTqZLH/qAl93v9tz7aZr1eczvgwe58q2aW42XOwj+AAo9x71s1s3wvc34q1DAMvbQ/eLvdemZmURR5y+Wy+cj1YRh6cRxX7b6DXPXRv/cz971arb56ntccjUau0+m8pl2/2+1eZrPZ9yAIvjnnNmnXm9lrkiRX/0D+ARTxKalXLqnWAAAAAElFTkSuQmCC\"></img></td>\n",
       "      <td id=\"T_f169a_row3_col5\" class=\"data row3 col5\" >6,291<br>(2.5%)</td>\n",
       "    </tr>\n",
       "  </tbody>\n",
       "</table>\n"
      ],
      "text/plain": [
       "<pandas.io.formats.style.Styler at 0x7ff54a27e8d0>"
      ]
     },
     "execution_count": 227,
     "metadata": {},
     "output_type": "execute_result"
    }
   ],
   "source": [
    "dfSummary(train_[['동결 배아 사용 여부', '신선 배아 사용 여부', '기증 배아 사용 여부', \"배아 이식 경과일\"]])"
   ]
  },
  {
   "cell_type": "markdown",
   "metadata": {},
   "source": [
    "### 결측 처리\n",
    "- '알 수 없음', 'Unknown','기록되지 않은 시행'은 non으로 처리"
   ]
  },
  {
   "cell_type": "code",
   "execution_count": 228,
   "metadata": {},
   "outputs": [
    {
     "name": "stdout",
     "output_type": "stream",
     "text": [
      "Train에서 삭제된 컬럼: []\n",
      "Test에서 삭제된 컬럼: []\n"
     ]
    }
   ],
   "source": [
    "def remove_fully_missing_columns(train_df, test_df):\n",
    "    \"\"\"\n",
    "    모든 관측치가 결측값(NaN)인 변수를 삭제하는 함수\n",
    "\n",
    "    Parameters:\n",
    "    - train_df: 학습 데이터 (DataFrame)\n",
    "    - test_df: 테스트 데이터 (DataFrame)\n",
    "\n",
    "    Returns:\n",
    "    - train_df: 결측 변수 삭제 후 학습 데이터 (DataFrame)\n",
    "    - test_df: 결측 변수 삭제 후 테스트 데이터 (DataFrame)\n",
    "    \"\"\"\n",
    "\n",
    "    # 모든 값이 NaN인 컬럼 찾기\n",
    "    train_missing_cols = train_df.columns[train_df.isna().all()].tolist()\n",
    "    test_missing_cols = test_df.columns[test_df.isna().all()].tolist()\n",
    "\n",
    "    # 삭제할 컬럼 리스트 생성\n",
    "    cols_to_drop = list(set(train_missing_cols + test_missing_cols))\n",
    "\n",
    "    # 데이터에서 해당 컬럼 삭제\n",
    "    train_df = train_df.drop(columns=cols_to_drop)\n",
    "    test_df = test_df.drop(columns=cols_to_drop)\n",
    "\n",
    "    # 삭제된 컬럼 출력\n",
    "    print(f\"Train에서 삭제된 컬럼: {train_missing_cols}\")\n",
    "    print(f\"Test에서 삭제된 컬럼: {test_missing_cols}\")\n",
    "\n",
    "    return train_df, test_df\n",
    "\n",
    "\n",
    "train, test = remove_fully_missing_columns(train, test)\n"
   ]
  },
  {
   "cell_type": "markdown",
   "metadata": {},
   "source": [
    "### 결측치 처리\n",
    "- 삭제할 변수\n",
    "    - \"임신 시도 또는 마지막 임신 경과 연수\", \"배란 유도 유형\", \n",
    "- 0으로 대체\n",
    "    - \"단일 배아 이식 여부\", \"착상 전 유전 검사 사용 여부\", \"착상 전 유전 진단 사용 여부\", \"총 생성 배아 수\", \"미세주입된 난자 수\",\n",
    "    \"미세주입에서 생성된 배아 수\", \"이식된 배아 수\", \"미세주입 배아 이식 수\", \"저장된 배아 수\", \"미세주입 후 저장된 배아 수\", \"해동된 배아 수\",\n",
    "    \"해동 난자 수\", \"수집된 신선 난자 수\", \"저장된 신선 난자 수\", \"혼합된 난자 수\", \"파트너 정자와 혼합된 난자 수\", \"기증자 정자와 혼합된 난자 수\", \n",
    "    \"동결 배아 사용 여부\", \"신선 배아 사용 여부\", \"기증 배아 사용 여부\", \"대리모 여부\", \"PGD 시술 여부\", \"PGS 시술 여부\", \"난자 해동 경과일\", \n",
    "    \"난자 혼합 경과일\", \"배아 이식 경과일\", \"배아 해동 경과일\"\n",
    "- 1로 대체\n",
    "    - \"난자 채취 경과일\"\n",
    "- \"NaN\"으로 대체\n",
    "    - \"난자 출처\"\n",
    "- 이후에 따로 처리할 필요가 있는 변수\n",
    "    - \"시술 당시 나이\", \"특정 시술 유형\", \"배아 생성 주요 이유\", \"난자 출처\", \"정자 출처\", \"난자 기증자 나이\", \"정자 기증자 나이\""
   ]
  },
  {
   "cell_type": "code",
   "execution_count": 229,
   "metadata": {},
   "outputs": [
    {
     "name": "stdout",
     "output_type": "stream",
     "text": [
      "삭제된 변수 : ['임신 시도 또는 마지막 임신 경과 연수', '배란 유도 유형']\n",
      "0으로 결측 대체 : ['단일 배아 이식 여부', '착상 전 유전 검사 사용 여부', '착상 전 유전 진단 사용 여부', '총 생성 배아 수', '미세주입된 난자 수', '미세주입에서 생성된 배아 수', '이식된 배아 수', '미세주입 배아 이식 수', '저장된 배아 수', '미세주입 후 저장된 배아 수', '해동된 배아 수', '해동 난자 수', '수집된 신선 난자 수', '저장된 신선 난자 수', '혼합된 난자 수', '파트너 정자와 혼합된 난자 수', '기증자 정자와 혼합된 난자 수', '동결 배아 사용 여부', '신선 배아 사용 여부', '기증 배아 사용 여부', '대리모 여부', 'PGD 시술 여부', 'PGS 시술 여부', '난자 해동 경과일', '난자 혼합 경과일', '배아 이식 경과일', '배아 해동 경과일']\n",
      "1로 결측 대체 : ['단일 배아 이식 여부', '착상 전 유전 검사 사용 여부', '착상 전 유전 진단 사용 여부', '총 생성 배아 수', '미세주입된 난자 수', '미세주입에서 생성된 배아 수', '이식된 배아 수', '미세주입 배아 이식 수', '저장된 배아 수', '미세주입 후 저장된 배아 수', '해동된 배아 수', '해동 난자 수', '수집된 신선 난자 수', '저장된 신선 난자 수', '혼합된 난자 수', '파트너 정자와 혼합된 난자 수', '기증자 정자와 혼합된 난자 수', '동결 배아 사용 여부', '신선 배아 사용 여부', '기증 배아 사용 여부', '대리모 여부', 'PGD 시술 여부', 'PGS 시술 여부', '난자 해동 경과일', '난자 혼합 경과일', '배아 이식 경과일', '배아 해동 경과일']\n",
      "NaN으로 결측 대체 : ['난자 출처']\n"
     ]
    }
   ],
   "source": [
    "def imputation(train_df, test_df):\n",
    "    \"\"\"\n",
    "    결측값 처리 함수\n",
    "    \n",
    "    - 삭제할 변수: \"임신 시도 또는 마지막 임신 경과 연수\", \"배란 유도 유형\"\n",
    "    - 0으로 대체할 변수: (리스트 참고)\n",
    "    - 1로 대체할 변수: \"난자 채취 경과일\"\n",
    "    \"\"\"\n",
    "\n",
    "    # 삭제할 변수 목록\n",
    "    cols_to_drop = [\"임신 시도 또는 마지막 임신 경과 연수\", \"배란 유도 유형\"]\n",
    "    \n",
    "    # 0으로 대체할 변수 목록\n",
    "    cols_to_fill0 = [\n",
    "        \"단일 배아 이식 여부\", \"착상 전 유전 검사 사용 여부\", \"착상 전 유전 진단 사용 여부\", \"총 생성 배아 수\", \"미세주입된 난자 수\",\n",
    "        \"미세주입에서 생성된 배아 수\", \"이식된 배아 수\", \"미세주입 배아 이식 수\", \"저장된 배아 수\", \"미세주입 후 저장된 배아 수\", \"해동된 배아 수\",\n",
    "        \"해동 난자 수\", \"수집된 신선 난자 수\", \"저장된 신선 난자 수\", \"혼합된 난자 수\", \"파트너 정자와 혼합된 난자 수\", \"기증자 정자와 혼합된 난자 수\",\n",
    "        \"동결 배아 사용 여부\", \"신선 배아 사용 여부\", \"기증 배아 사용 여부\", \"대리모 여부\", \"PGD 시술 여부\", \"PGS 시술 여부\", \"난자 해동 경과일\",\n",
    "        \"난자 혼합 경과일\", \"배아 이식 경과일\", \"배아 해동 경과일\"\n",
    "    ]\n",
    "    \n",
    "    # 1로 대체할 변수 목록\n",
    "    cols_to_fill1 = [\"난자 채취 경과일\"]\n",
    "    \n",
    "    # \"NAN\"으로 대체할 변수 목록\n",
    "    cols_to_fill_nan = [\"난자 출처\"]\n",
    "\n",
    "    # 실제 존재하는 컬럼만 필터링\n",
    "    drop_cols_existing = [col for col in cols_to_drop if col in train_df.columns]\n",
    "    fill0_cols_existing = [col for col in cols_to_fill0 if col in train_df.columns]\n",
    "    fill1_cols_existing = [col for col in cols_to_fill1 if col in train_df.columns]\n",
    "    fill_nan_cols_existing = [col for col in cols_to_fill_nan if col in train_df.columns]\n",
    "\n",
    "    # 데이터에서 해당 컬럼 삭제\n",
    "    train_df = train_df.drop(columns=drop_cols_existing, errors='ignore')\n",
    "    test_df = test_df.drop(columns=drop_cols_existing, errors='ignore')\n",
    "    \n",
    "    # 결측값 0으로 대체\n",
    "    train_df[fill0_cols_existing] = train_df[fill0_cols_existing].fillna(0)\n",
    "    test_df[fill0_cols_existing] = test_df[fill0_cols_existing].fillna(0)\n",
    "\n",
    "    # 결측값 1로 대체\n",
    "    train_df[fill1_cols_existing] = train_df[fill1_cols_existing].fillna(1)\n",
    "    test_df[fill1_cols_existing] = test_df[fill1_cols_existing].fillna(1)\n",
    "    \n",
    "    # 결측값 NaN로 대체\n",
    "    train_df[fill_nan_cols_existing] = train_df[fill_nan_cols_existing].fillna(\"NaN\")\n",
    "    test_df[fill_nan_cols_existing] = test_df[fill_nan_cols_existing].fillna(\"NaN\")\n",
    "    \n",
    "    print(f\"삭제된 변수 : {drop_cols_existing}\")\n",
    "    print(f\"0으로 결측 대체 : {fill0_cols_existing}\")\n",
    "    print(f\"1로 결측 대체 : {fill0_cols_existing}\")\n",
    "    print(f\"NaN으로 결측 대체 : {fill_nan_cols_existing}\")\n",
    "\n",
    "    return train_df, test_df\n",
    "\n",
    "\n",
    "train, test = imputation(train, test)"
   ]
  },
  {
   "cell_type": "markdown",
   "metadata": {},
   "source": [
    "### \"특정 시술 유형'\n",
    "- \"Unknown\" => nan으로 변경\n",
    "- Unknown이 : 으로 묶인 경우 => Unknown 칼럼 생성\n",
    "- \"FER\", \"GIFT\" 는Unknown으로"
   ]
  },
  {
   "cell_type": "code",
   "execution_count": 230,
   "metadata": {},
   "outputs": [
    {
     "name": "stdout",
     "output_type": "stream",
     "text": [
      "추가된 시술 유형 칼럼들: ['IVF', 'ICSI', 'GenericDI', 'IUI', 'IVI', 'ICI', 'Unknown', 'AH', 'BLASTOCYST']\n"
     ]
    }
   ],
   "source": [
    "def encode_treatment_types(train_df, test_df):\n",
    "    # 데이터 복사\n",
    "    train_df = train_df.copy()\n",
    "    test_df = test_df.copy()\n",
    "    \n",
    "    train_df[\"특정 시술 유형\"] = train_df['특정 시술 유형'].replace(\"FER\", \"Unknown\").replace(\"GIFT\", \"Unknown\")\n",
    "    test_df[\"특정 시술 유형\"] = test_df['특정 시술 유형'].replace(\"FER\", \"Unknown\").replace(\"GIFT\", \"Unknown\")\n",
    "\n",
    "    # 특정 시술 유형에서 고유한 시술 종류 추출\n",
    "    all_treatments = set()\n",
    "\n",
    "    for df in [train_df, test_df]:\n",
    "        if '특정 시술 유형' in df.columns:\n",
    "            df['특정 시술 유형'] = df['특정 시술 유형'].astype(str).fillna(\"Unknown\")  # 결측값 방지\n",
    "            df['특정 시술 유형'].str.replace(\" \", \"\").str.split(\":|/\").apply(all_treatments.update)\n",
    "    \n",
    "    # 'nan' 값이 존재하면 제거\n",
    "    all_treatments.discard('nan')\n",
    "    \n",
    "    # 새로운 시술 유형 컬럼 생성 (초기값 0)\n",
    "    for treatment in all_treatments:\n",
    "        train_df[treatment] = 0\n",
    "        test_df[treatment] = 0\n",
    "\n",
    "    # 해당 시술이 포함된 경우 1로 설정\n",
    "    for df in [train_df, test_df]:\n",
    "        if '특정 시술 유형' in df.columns:\n",
    "            for treatment in all_treatments:\n",
    "                df[treatment] = df['특정 시술 유형'].str.replace(\" \", \"\").apply(lambda x: 1 if treatment in x else 0)\n",
    "\n",
    "    # 기존 '특정 시술 유형' 컬럼 삭제\n",
    "    train_df.drop(columns=['특정 시술 유형'], inplace=True, errors='ignore')\n",
    "    test_df.drop(columns=['특정 시술 유형'], inplace=True, errors='ignore')\n",
    "\n",
    "    # 추가된 칼럼 목록 출력\n",
    "    print(f\"추가된 시술 유형 칼럼들: {list(all_treatments)}\")\n",
    "    return train_df, test_df\n",
    "\n",
    "# 사용 예시\n",
    "train, test = encode_treatment_types(train, test)"
   ]
  },
  {
   "cell_type": "markdown",
   "metadata": {},
   "source": [
    "### Ordinal Encoding\n",
    "- 나이 변수 : '시술 당시 나이', '난자 기증자 나이', '정자 기증자 나이'\n",
    "- 횟수 변수 : '총 시술 횟수', '클리닉 내 총 시술 횟수', 'IVF 시술 횟수', 'DI 시술 횟수', '총 임신 횟수', \n",
    "    'IVF 임신 횟수', 'DI 임신 횟수', '총 출산 횟수', 'IVF 출산 횟수', 'DI 출산 횟수'"
   ]
  },
  {
   "cell_type": "code",
   "execution_count": 231,
   "metadata": {},
   "outputs": [],
   "source": [
    "def ordinal_encoding(train_df, test_df):\n",
    "    \"\"\"\n",
    "    나이 관련 변수를 순서형 숫자로 변환하고, 빈도 관련 변수를 정수 변환하는 함수.\n",
    "\n",
    "    Parameters:\n",
    "    - train_df: 학습 데이터 (DataFrame)\n",
    "    - test_df: 테스트 데이터 (DataFrame)\n",
    "\n",
    "    Returns:\n",
    "    - train_df: 변환된 학습 데이터 (DataFrame)\n",
    "    - test_df: 변환된 테스트 데이터 (DataFrame)\n",
    "    \"\"\"\n",
    "\n",
    "    # 데이터 복사\n",
    "    train_df = train_df.copy()\n",
    "    test_df = test_df.copy()\n",
    "\n",
    "    # 나이 관련 변수 리스트\n",
    "    age_columns = ['시술 당시 나이', '난자 기증자 나이', '정자 기증자 나이']\n",
    "\n",
    "    # 나이 변환 (존재하는 컬럼만 처리)\n",
    "    for col in age_columns:\n",
    "        if col in train_df.columns:\n",
    "            unique_ages = train_df[col].dropna().unique()\n",
    "            cleaned_ages = []\n",
    "\n",
    "            for age in unique_ages:\n",
    "                age_str = str(age).strip().replace(\"만\", \"\").replace(\"세\", \"\").replace(\" \", \"\")\n",
    "\n",
    "                # 나이 범위 처리\n",
    "                if \"-\" in age_str:\n",
    "                    age_str = age_str.split(\"-\")[0]  # 범위 값이면 첫 번째 값 사용\n",
    "                elif \"이하\" in age_str:\n",
    "                    age_str = age_str.replace(\"이하\", \"\")  # \"이하\" 제거\n",
    "\n",
    "                # 숫자로 변환 가능한 경우 리스트에 추가\n",
    "                if age_str.isdigit():\n",
    "                    cleaned_ages.append(int(age_str))\n",
    "\n",
    "            # 숫자로 변환하여 정렬\n",
    "            sorted_ages = sorted(set(cleaned_ages))\n",
    "\n",
    "            # 1부터 순차적으로 매핑\n",
    "            age_mapping = {str(age): idx + 1 for idx, age in enumerate(sorted_ages)}\n",
    "\n",
    "            # 매핑 적용\n",
    "            train_df[col] = train_df[col].astype(str).str.replace(\"만\", \"\").str.replace(\"세\", \"\").str.split(\"-\").str[0].str.replace(\"이하\", \"\").map(age_mapping)\n",
    "            test_df[col] = test_df[col].astype(str).str.replace(\"만\", \"\").str.replace(\"세\", \"\").str.split(\"-\").str[0].str.replace(\"이하\", \"\").map(age_mapping)\n",
    "\n",
    "            # 결측값 0으로 대체\n",
    "            train_df[col] = train_df[col].fillna(0)\n",
    "            test_df[col] = test_df[col].fillna(0)\n",
    "\n",
    "    # 빈도 관련 컬럼 변환 (존재하는 컬럼만 처리)\n",
    "    freq_columns = ['총 시술 횟수', '클리닉 내 총 시술 횟수', 'IVF 시술 횟수', 'DI 시술 횟수', \n",
    "                    '총 임신 횟수', 'IVF 임신 횟수', 'DI 임신 횟수', '총 출산 횟수', 'IVF 출산 횟수', 'DI 출산 횟수']\n",
    "\n",
    "    for col in freq_columns:\n",
    "        if col in train_df.columns:\n",
    "            train_df[col] = train_df[col].apply(lambda x: int(str(x)[:1]) if pd.notna(x) and str(x)[0].isdigit() else x)\n",
    "            test_df[col] = test_df[col].apply(lambda x: int(str(x)[:1]) if pd.notna(x) and str(x)[0].isdigit() else x)\n",
    "\n",
    "    return train_df, test_df\n",
    "\n",
    "# 사용 예시\n",
    "train, test = ordinal_encoding(train, test)\n"
   ]
  },
  {
   "cell_type": "markdown",
   "metadata": {},
   "source": [
    "### 배아 생성 주요 이유"
   ]
  },
  {
   "cell_type": "code",
   "execution_count": 232,
   "metadata": {},
   "outputs": [],
   "source": [
    "def process_embryo_reason(train_df, test_df):\n",
    "    # 데이터 복사\n",
    "    train_df = train_df.copy()\n",
    "    test_df = test_df.copy()\n",
    "\n",
    "    # 새로운 컬럼 리스트\n",
    "    new_columns = ['현재 시술용', '난자 저장용', '배아 저장용', '기증용', '연구용']\n",
    "\n",
    "    # 각 컬럼을 0으로 초기화\n",
    "    if '배아 생성 주요 이유' in train_df.columns:\n",
    "        for col in new_columns:\n",
    "            train_df[col] = 0\n",
    "            test_df[col] = 0\n",
    "\n",
    "\n",
    "        for index, value in train_df['배아 생성 주요 이유'].items():\n",
    "            if pd.notna(value):  # 결측값이 아닌 경우만 처리\n",
    "                for col in new_columns:\n",
    "                    if col in str(value):  # 문자열 변환 후 확인\n",
    "                        train_df.at[index, col] = 1\n",
    "\n",
    "\n",
    "        for index, value in test_df['배아 생성 주요 이유'].items():\n",
    "            if pd.notna(value):  # 결측값이 아닌 경우만 처리\n",
    "                for col in new_columns:\n",
    "                    if col in str(value):  # 문자열 변환 후 확인\n",
    "                        test_df.at[index, col] = 1\n",
    "\n",
    "    # 기존 '배아 생성 주요 이유' 컬럼 삭제\n",
    "    train_df.drop(columns=['배아 생성 주요 이유'], inplace=True, errors='ignore')\n",
    "    test_df.drop(columns=['배아 생성 주요 이유'], inplace=True, errors='ignore')\n",
    "\n",
    "    return train_df, test_df\n",
    "\n",
    "# 사용 예시\n",
    "train, test = process_embryo_reason(train, test)"
   ]
  },
  {
   "cell_type": "markdown",
   "metadata": {},
   "source": [
    "### MinMax Scaling\n",
    "- \"임신 시도 또는 마지막 임신 경과 연수\", \"총 생성 배아 수\", \"미세주입된 난자 수\", \"미세주입에서 생성된 배아 수\", \"저장된 배아 수\", \"미세주입 후 저장된 배아 수\", \"해동된 배아 수\", \"해동 난자 수\", \"수집된 신선 난자 수\", \"저장된 신선 난자 수\", \"혼합된 난자 수\", \"파트너 정자와 혼합된 난자 수\", \"기증자 정자와 혼합된 난자 수\""
   ]
  },
  {
   "cell_type": "code",
   "execution_count": 233,
   "metadata": {},
   "outputs": [
    {
     "name": "stdout",
     "output_type": "stream",
     "text": [
      "MinMax Scaling 적용된 컬럼: ['총 생성 배아 수', '미세주입된 난자 수', '미세주입에서 생성된 배아 수', '저장된 배아 수', '미세주입 후 저장된 배아 수', '해동된 배아 수', '해동 난자 수', '수집된 신선 난자 수', '저장된 신선 난자 수', '혼합된 난자 수', '파트너 정자와 혼합된 난자 수', '기증자 정자와 혼합된 난자 수']\n"
     ]
    }
   ],
   "source": [
    "def minmax_scale_columns(train_df, test_df):\n",
    "    \"\"\"\n",
    "    특정 변수들 중 실제 데이터에 존재하는 변수들에 대해 MinMax Scaling 적용.\n",
    "\n",
    "    Parameters:\n",
    "    - train_df: 학습 데이터 (DataFrame)\n",
    "    - test_df: 테스트 데이터 (DataFrame)\n",
    "\n",
    "    Returns:\n",
    "    - train_df: MinMax Scaling 적용된 학습 데이터 (DataFrame)\n",
    "    - test_df: MinMax Scaling 적용된 테스트 데이터 (DataFrame)\n",
    "    \"\"\"\n",
    "\n",
    "    # MinMax Scaling 대상 변수 리스트\n",
    "    scale_columns = [\n",
    "        \"임신 시도 또는 마지막 임신 경과 연수\", \"총 생성 배아 수\", \"미세주입된 난자 수\",\n",
    "        \"미세주입에서 생성된 배아 수\", \"저장된 배아 수\", \"미세주입 후 저장된 배아 수\",\n",
    "        \"해동된 배아 수\", \"해동 난자 수\", \"수집된 신선 난자 수\", \"저장된 신선 난자 수\",\n",
    "        \"혼합된 난자 수\", \"파트너 정자와 혼합된 난자 수\", \"기증자 정자와 혼합된 난자 수\"\n",
    "    ]\n",
    "\n",
    "    # 실제 데이터에 존재하는 컬럼 필터링\n",
    "    existing_columns = [col for col in scale_columns if col in train_df.columns]\n",
    "\n",
    "    if not existing_columns:\n",
    "        print(\"MinMax Scaling 적용할 컬럼이 없습니다.\")\n",
    "        return train_df, test_df\n",
    "\n",
    "    # MinMaxScaler 초기화\n",
    "    scaler = MinMaxScaler()\n",
    "\n",
    "    # Train 데이터 스케일링\n",
    "    train_df[existing_columns] = scaler.fit_transform(train_df[existing_columns])\n",
    "\n",
    "    # Test 데이터 동일 스케일링 적용\n",
    "    test_df[existing_columns] = scaler.transform(test_df[existing_columns])\n",
    "\n",
    "    # 적용된 컬럼 출력\n",
    "    print(f\"MinMax Scaling 적용된 컬럼: {existing_columns}\")\n",
    "\n",
    "    return train_df, test_df\n",
    "\n",
    "# 사용 예시\n",
    "train, test = minmax_scale_columns(train, test)"
   ]
  },
  {
   "cell_type": "markdown",
   "metadata": {},
   "source": [
    "### 이상치 제거"
   ]
  },
  {
   "cell_type": "code",
   "execution_count": 234,
   "metadata": {},
   "outputs": [
    {
     "data": {
      "text/plain": [
       "((256351, 78), (90067, 77))"
      ]
     },
     "execution_count": 234,
     "metadata": {},
     "output_type": "execute_result"
    }
   ],
   "source": [
    "train.shape, test.shape"
   ]
  },
  {
   "cell_type": "code",
   "execution_count": 235,
   "metadata": {},
   "outputs": [
    {
     "name": "stdout",
     "output_type": "stream",
     "text": [
      "이상치가 제거된 컬럼 및 행 개수: {'총 생성 배아 수': 2, '미세주입된 난자 수': 0, '미세주입에서 생성된 배아 수': 0, '저장된 배아 수': 29, '미세주입 후 저장된 배아 수': 87, '해동된 배아 수': 74, '해동 난자 수': 1445, '수집된 신선 난자 수': 0, '저장된 신선 난자 수': 2329, '혼합된 난자 수': 0, '파트너 정자와 혼합된 난자 수': 0, '기증자 정자와 혼합된 난자 수': 30}\n"
     ]
    }
   ],
   "source": [
    "def remove_outliers_from_train(train_df, test_df):\n",
    "    \"\"\"\n",
    "    지정된 컬럼에서 이상치를 제거하는 함수 (IQR 방식 사용, 학습 데이터만 변경)\n",
    "\n",
    "    Parameters:\n",
    "    - train_df: 학습 데이터 (DataFrame)\n",
    "    - test_df: 테스트 데이터 (DataFrame) (변경되지 않음)\n",
    "\n",
    "    Returns:\n",
    "    - train_df: 이상치 제거 후 학습 데이터 (DataFrame)\n",
    "    - test_df: 원본 유지된 테스트 데이터 (DataFrame)\n",
    "    \"\"\"\n",
    "\n",
    "    # 데이터 복사 (train만 변경)\n",
    "    train_df = train_df.copy()\n",
    "    \n",
    "    scale_columns = [\n",
    "        \"임신 시도 또는 마지막 임신 경과 연수\", \"총 생성 배아 수\", \"미세주입된 난자 수\",\n",
    "        \"미세주입에서 생성된 배아 수\", \"저장된 배아 수\", \"미세주입 후 저장된 배아 수\",\n",
    "        \"해동된 배아 수\", \"해동 난자 수\", \"수집된 신선 난자 수\", \"저장된 신선 난자 수\",\n",
    "        \"혼합된 난자 수\", \"파트너 정자와 혼합된 난자 수\", \"기증자 정자와 혼합된 난자 수\"\n",
    "    ]\n",
    "\n",
    "    # 이상치가 제거된 행 개수를 저장할 딕셔너리\n",
    "    removed_counts = {}\n",
    "\n",
    "    for col in scale_columns:\n",
    "        if col in train_df.columns:\n",
    "            # IQR 계산 (10~90 분위수 기준)\n",
    "            Q1 = train_df[col].quantile(0)\n",
    "            Q3 = train_df[col].quantile(0.99)\n",
    "            IQR = Q3 - Q1\n",
    "            lower_bound = Q1 - 1.5 * IQR\n",
    "            upper_bound = Q3 + 1.5 * IQR\n",
    "\n",
    "            # 이상치 탐지\n",
    "            outliers = (train_df[col] < lower_bound) | (train_df[col] > upper_bound)\n",
    "\n",
    "            # 삭제할 행 개수 저장\n",
    "            removed_counts[col] = outliers.sum()\n",
    "\n",
    "            # 이상치 제거\n",
    "            train_df = train_df[~outliers]\n",
    "\n",
    "    # 이상치 제거된 개수 출력\n",
    "    print(f\"이상치가 제거된 컬럼 및 행 개수: {removed_counts}\")\n",
    "\n",
    "    return train_df, test_df  # test_df는 변경되지 않음\n",
    "\n",
    "# 사용 예시\n",
    "train, test = remove_outliers_from_train(train, test)"
   ]
  },
  {
   "cell_type": "code",
   "execution_count": 236,
   "metadata": {},
   "outputs": [
    {
     "data": {
      "text/plain": [
       "((252355, 78), (90067, 77))"
      ]
     },
     "execution_count": 236,
     "metadata": {},
     "output_type": "execute_result"
    }
   ],
   "source": [
    "train.shape, test.shape"
   ]
  },
  {
   "cell_type": "markdown",
   "metadata": {},
   "source": [
    "### 원 핫 인코딩"
   ]
  },
  {
   "cell_type": "code",
   "execution_count": 237,
   "metadata": {},
   "outputs": [
    {
     "name": "stdout",
     "output_type": "stream",
     "text": [
      "원핫인코딩 적용된 컬럼 개수: 16\n",
      "원핫인코딩 적용된 컬럼 리스트: ['시술 시기 코드_TRCMWS', '시술 시기 코드_TRDQAZ', '시술 시기 코드_TRJXFG', '시술 시기 코드_TRVNRY', '시술 시기 코드_TRXQMD', '시술 시기 코드_TRYBLT', '시술 시기 코드_TRZKPL', '시술 유형_DI', '시술 유형_IVF', '난자 출처_기증 제공', '난자 출처_본인 제공', '난자 출처_알 수 없음', '정자 출처_기증 제공', '정자 출처_미할당', '정자 출처_배우자 및 기증 제공', '정자 출처_배우자 제공']\n"
     ]
    }
   ],
   "source": [
    "def one_hot_encode_columns(train_df, test_df):\n",
    "    \"\"\"\n",
    "    train_df의 object 데이터 타입인 변수들을 원핫인코딩하여 변환하고,\n",
    "    test_df는 train_df에서 생성된 변수에 맞게 변환.\n",
    "\n",
    "    Parameters:\n",
    "    - train_df: 학습 데이터 (DataFrame)\n",
    "    - test_df: 테스트 데이터 (DataFrame)\n",
    "\n",
    "    Returns:\n",
    "    - train_df: 원핫인코딩 적용된 학습 데이터 (DataFrame)\n",
    "    - test_df: 원핫인코딩 적용된 테스트 데이터 (DataFrame)\n",
    "    \"\"\"\n",
    "\n",
    "    # 타겟 변수를 제외한 원핫인코딩 대상 변수 리스트 (object 타입인 컬럼)\n",
    "    categorical_columns = [col for col in train_df.select_dtypes(include=['object']).columns.tolist()\n",
    "                           if col != \"임신 성공 여부\"]\n",
    "\n",
    "    if not categorical_columns:\n",
    "        print(\"원핫인코딩 적용할 컬럼이 없습니다.\")\n",
    "        return train_df, test_df\n",
    "\n",
    "    # OneHotEncoder 초기화 (sparse_output=True로 설정하여 최적화)\n",
    "    encoder = OneHotEncoder(handle_unknown=\"ignore\", sparse_output=False)\n",
    "\n",
    "    # Train 데이터 인코딩\n",
    "    train_encoded = encoder.fit_transform(train_df[categorical_columns])\n",
    "    train_encoded_df = pd.DataFrame(train_encoded, columns=encoder.get_feature_names_out(), index=train_df.index)\n",
    "\n",
    "    # Test 데이터 인코딩 (Train에서 학습한 변수만 적용)\n",
    "    test_encoded = encoder.transform(test_df[categorical_columns])\n",
    "    test_encoded_df = pd.DataFrame(test_encoded, columns=encoder.get_feature_names_out(), index=test_df.index)\n",
    "\n",
    "    # 기존 object 타입 컬럼 삭제 후 인코딩된 컬럼 추가 (reset_index 제거)\n",
    "    train_df = train_df.drop(columns=categorical_columns)\n",
    "    test_df = test_df.drop(columns=categorical_columns)\n",
    "\n",
    "    train_df = pd.concat([train_df, train_encoded_df], axis=1)\n",
    "    test_df = pd.concat([test_df, test_encoded_df], axis=1)\n",
    "\n",
    "    # 적용된 컬럼 출력\n",
    "    print(f\"원핫인코딩 적용된 컬럼 개수: {len(train_encoded_df.columns)}\")\n",
    "    print(f\"원핫인코딩 적용된 컬럼 리스트: {train_encoded_df.columns.tolist()}\")\n",
    "\n",
    "    return train_df, test_df\n",
    "\n",
    "# 사용 예시\n",
    "train, test = one_hot_encode_columns(train, test)"
   ]
  },
  {
   "cell_type": "markdown",
   "metadata": {},
   "source": [
    "### 분산 0인 칼람 삭제"
   ]
  },
  {
   "cell_type": "code",
   "execution_count": 238,
   "metadata": {},
   "outputs": [
    {
     "name": "stdout",
     "output_type": "stream",
     "text": [
      "삭제된 단일 값 컬럼: ['불임 원인 - 여성 요인', '해동 난자 수', '난자 해동 경과일']\n"
     ]
    }
   ],
   "source": [
    "def remove_single_value_columns(train_df, test_df, fill_value=999):\n",
    "    \"\"\"\n",
    "    NaN을 임시 값으로 채운 후, 유일한 값이 하나뿐인 컬럼을 삭제하는 함수\n",
    "\n",
    "    Parameters:\n",
    "    - train_df: 학습 데이터 (DataFrame)\n",
    "    - test_df: 테스트 데이터 (DataFrame)\n",
    "    - fill_value: NaN을 대체할 임시 값 (기본값: 999)\n",
    "\n",
    "    Returns:\n",
    "    - train_df: 단일 값 컬럼 삭제 후 학습 데이터 (DataFrame)\n",
    "    - test_df: 단일 값 컬럼 삭제 후 테스트 데이터 (DataFrame)\n",
    "    \"\"\"\n",
    "\n",
    "    # NaN을 임시 값으로 채운 후, 유일한 값이 하나뿐인 컬럼 찾기\n",
    "    single_value_cols_train = train_df.fillna(fill_value).nunique() == 1\n",
    "\n",
    "    # 제거할 컬럼 리스트\n",
    "    cols_to_drop = train_df.columns[single_value_cols_train].tolist()\n",
    "\n",
    "    # 데이터에서 해당 컬럼 삭제\n",
    "    train_df = train_df.drop(columns=cols_to_drop)\n",
    "    test_df = test_df.drop(columns=cols_to_drop)\n",
    "\n",
    "    # 삭제된 컬럼 출력\n",
    "    print(f\"삭제된 단일 값 컬럼: {cols_to_drop}\")\n",
    "\n",
    "    return train_df, test_df\n",
    "\n",
    "\n",
    "train, test = remove_single_value_columns(train, test)\n"
   ]
  },
  {
   "cell_type": "markdown",
   "metadata": {},
   "source": [
    "# 저장"
   ]
  },
  {
   "cell_type": "code",
   "execution_count": 239,
   "metadata": {},
   "outputs": [],
   "source": [
    "train.to_csv(\"./datasets/train_Preprocessed.csv\", index=True)\n",
    "test.to_csv(\"./datasets/test_Preprocessed.csv\", index=True)\n"
   ]
  }
 ],
 "metadata": {
  "kernelspec": {
   "display_name": "dnflwlq145",
   "language": "python",
   "name": "python3"
  },
  "language_info": {
   "codemirror_mode": {
    "name": "ipython",
    "version": 3
   },
   "file_extension": ".py",
   "mimetype": "text/x-python",
   "name": "python",
   "nbconvert_exporter": "python",
   "pygments_lexer": "ipython3",
   "version": "3.12.7"
  }
 },
 "nbformat": 4,
 "nbformat_minor": 2
}
