{
 "cells": [
  {
   "cell_type": "markdown",
   "metadata": {},
   "source": [
    "# load packages"
   ]
  },
  {
   "cell_type": "code",
   "execution_count": 164,
   "metadata": {},
   "outputs": [],
   "source": [
    "import numpy as np\n",
    "import pandas as pd\n",
    "from sklearn.model_selection import train_test_split, GridSearchCV, StratifiedKFold\n",
    "from sklearn.ensemble import RandomForestClassifier\n",
    "from xgboost import XGBClassifier\n",
    "from lightgbm import LGBMClassifier\n",
    "from catboost import CatBoostClassifier\n",
    "from sklearn.metrics import roc_auc_score\n",
    "import time\n",
    "\n",
    "from summarytools import dfSummary\n",
    "\n",
    "import os\n",
    "from tqdm import tqdm\n"
   ]
  },
  {
   "cell_type": "markdown",
   "metadata": {},
   "source": [
    "# 데이터 로드"
   ]
  },
  {
   "cell_type": "code",
   "execution_count": 172,
   "metadata": {},
   "outputs": [],
   "source": [
    "train = pd.read_csv(\"./datasets/train_Preprocessed_noegg.csv\", index_col=0)\n",
    "test = pd.read_csv(\"./datasets/test_Preprocessed_noegg.csv\", index_col=0)"
   ]
  },
  {
   "cell_type": "code",
   "execution_count": 173,
   "metadata": {},
   "outputs": [],
   "source": [
    "train_subset = pd.read_csv(\"./datasets/train_Preprocessed_noegg_subset.csv\", index_col=0)\n",
    "test_subset = pd.read_csv(\"./datasets/test_Preprocessed_noegg_subset.csv\", index_col=0)"
   ]
  },
  {
   "cell_type": "code",
   "execution_count": 174,
   "metadata": {},
   "outputs": [],
   "source": [
    "# 수정된 컬럼명으로 X, y 분리\n",
    "X = train.drop(columns=['임신 성공 여부'])\n",
    "y = train['임신 성공 여부']"
   ]
  },
  {
   "cell_type": "markdown",
   "metadata": {},
   "source": [
    "# Gridsearch\n",
    "- best params : {'depth': 6, 'iterations': 500, 'learning_rate': 0.05}"
   ]
  },
  {
   "cell_type": "code",
   "execution_count": 175,
   "metadata": {},
   "outputs": [],
   "source": [
    "# 3️⃣ 모델별 하이퍼파라미터 후보군 설정\n",
    "param_grid = {\n",
    "    # \"CatBoost\": {\n",
    "    #     \"depth\": [6],\n",
    "    #     \"learning_rate\": [0.05],\n",
    "    #     \"iterations\": [500]\n",
    "    # },\n",
    "    # \"XGBoost\": {\n",
    "    #     \"max_depth\": [1, 2, 3, 4, 5, 6, 7, 8],\n",
    "    #     \"learning_rate\": [0.075, 0.08, 0.085],\n",
    "    #     \"n_estimators\": [300, 400, 500, 600, 700, 800]\n",
    "    # },\n",
    "    \"XGBoost\" : {'learning_rate': [0.08], 'max_depth': [3], 'n_estimators': [300]}\n",
    "\n",
    "    # \"RandomForest\": {\n",
    "    #     \"max_depth\": [10, 20, 30, 40, 50],\n",
    "    #     \"n_estimators\": [100, 300, 500, 700, 1000],\n",
    "    #     \"min_samples_split\": [2, 5, 10, 15, 20]\n",
    "    # }\n",
    "}\n",
    "\n",
    "# 4️⃣ 모델 정의\n",
    "models = {\n",
    "    # \"CatBoost\": CatBoostClassifier(verbose=0, random_state=42),\n",
    "    \"XGBoost\": XGBClassifier(eval_metric=\"logloss\", random_state=42),\n",
    "    # \"RandomForest\": RandomForestClassifier(random_state=42)\n",
    "}"
   ]
  },
  {
   "cell_type": "code",
   "execution_count": 176,
   "metadata": {},
   "outputs": [
    {
     "name": "stdout",
     "output_type": "stream",
     "text": [
      "\n",
      "🚀 XGBoost 모델 GridSearch 시작...\n"
     ]
    },
    {
     "name": "stderr",
     "output_type": "stream",
     "text": [
      "🔍 GridSearch XGBoost:   0%|          | 0/1 [00:00<?, ?it/s]"
     ]
    },
    {
     "name": "stdout",
     "output_type": "stream",
     "text": [
      "Fitting 3 folds for each of 1 candidates, totalling 3 fits\n",
      "[CV 1/3] END learning_rate=0.08, max_depth=3, n_estimators=300;, score=0.803 total time=   4.1s\n",
      "[CV 3/3] END learning_rate=0.08, max_depth=3, n_estimators=300;, score=0.804 total time=   4.1s\n",
      "[CV 2/3] END learning_rate=0.08, max_depth=3, n_estimators=300;, score=0.803 total time=   4.2s\n"
     ]
    },
    {
     "name": "stderr",
     "output_type": "stream",
     "text": [
      "🔍 GridSearch XGBoost: 100%|██████████| 1/1 [00:07<00:00,  7.85s/it]\n"
     ]
    },
    {
     "name": "stdout",
     "output_type": "stream",
     "text": [
      "✅ XGBoost 최적 파라미터: {'learning_rate': 0.08, 'max_depth': 3, 'n_estimators': 300}\n",
      "📌 XGBoost 10-Fold Cross Validation 시작...\n"
     ]
    },
    {
     "name": "stderr",
     "output_type": "stream",
     "text": [
      "🔄 XGBoost CV Progress: 100%|██████████| 4/4 [00:06<00:00,  1.73s/it]"
     ]
    },
    {
     "name": "stdout",
     "output_type": "stream",
     "text": [
      "\n",
      "📊 XGBoost 4-Fold AUC Scores (정렬됨) = [0.800815544000967, 0.8035024636255388, 0.8039779432179481, 0.8056574439507604]\n",
      "📊 XGBoost CV AUC: 평균=0.803488, 표준편차=0.001738\n",
      "🕒 XGBoost 학습 완료! 소요 시간: 14.76초\n",
      "\n",
      "\n",
      "🚀 전체 학습 완료! 총 소요 시간: 14.77초\n"
     ]
    },
    {
     "name": "stderr",
     "output_type": "stream",
     "text": [
      "\n"
     ]
    }
   ],
   "source": [
    "# 🔹 병렬 처리 설정\n",
    "N_JOBS = 7  # CPU 코어 개수 (변경 가능)\n",
    "\n",
    "# 5️⃣ 10-Fold Cross Validation 및 GridSearch\n",
    "best_models = {}\n",
    "cv_results = {}\n",
    "auc_results = {}  # ✅ AUC 점수 저장할 딕셔너리 추가\n",
    "\n",
    "start_time = time.time()  # 전체 실행 시간 측정 시작\n",
    "\n",
    "for model_name, model in models.items():\n",
    "    print(f\"\\n🚀 {model_name} 모델 GridSearch 시작...\")\n",
    "    model_start = time.time()  # 개별 모델 실행 시간 측정\n",
    "\n",
    "    grid_search = GridSearchCV(\n",
    "        model, param_grid[model_name], \n",
    "        scoring=\"roc_auc\", cv=3, n_jobs=N_JOBS, verbose=3\n",
    "    )\n",
    "    \n",
    "    if model_name == \"CatBoost\":\n",
    "        # ✅ tqdm으로 GridSearch 진행 상황 표시\n",
    "        with tqdm(total=len(param_grid[model_name][\"depth\"]) * \n",
    "                        len(param_grid[model_name][\"learning_rate\"]) * \n",
    "                        len(param_grid[model_name][\"iterations\"]), desc=f\"🔍 GridSearch {model_name}\") as pbar:\n",
    "            grid_search.fit(X, y)\n",
    "            pbar.update()\n",
    "    elif model_name == \"XGBoost\":\n",
    "        # ✅ tqdm으로 GridSearch 진행 상황 표시\n",
    "        with tqdm(total=len(param_grid[model_name][\"max_depth\"]) * \n",
    "                        len(param_grid[model_name][\"learning_rate\"]) * \n",
    "                        len(param_grid[model_name][\"n_estimators\"]), desc=f\"🔍 GridSearch {model_name}\") as pbar:\n",
    "            grid_search.fit(X, y)\n",
    "            pbar.update()\n",
    "    elif model_name == \"RandomForest\":\n",
    "        with tqdm(total=len(param_grid[model_name][\"max_depth\"]) * \n",
    "                        len(param_grid[model_name][\"n_estimators\"]) * \n",
    "                        len(param_grid[model_name][\"min_samples_split\"]), desc=f\"🔍 GridSearch {model_name}\") as pbar:\n",
    "            grid_search.fit(X, y)\n",
    "            pbar.update()\n",
    "\n",
    "    # 최적 모델 저장\n",
    "    best_models[model_name] = grid_search.best_estimator_\n",
    "    print(f\"✅ {model_name} 최적 파라미터: {grid_search.best_params_}\")\n",
    "\n",
    "    # ✅ 10-Fold Cross Validation 진행 상황을 tqdm으로 표시\n",
    "    print(f\"📌 {model_name} 10-Fold Cross Validation 시작...\")\n",
    "    skf = StratifiedKFold(n_splits=4, shuffle=True, random_state=42)\n",
    "    auc_scores = []\n",
    "\n",
    "    for fold_idx, (train_idx, val_idx) in tqdm(enumerate(skf.split(X, y), 1), total=4, desc=f\"🔄 {model_name} CV Progress\"):\n",
    "        X_t, X_v = X.iloc[train_idx], X.iloc[val_idx]\n",
    "        y_t, y_v = y.iloc[train_idx], y.iloc[val_idx]\n",
    "\n",
    "        model = grid_search.best_estimator_\n",
    "        model.fit(X_t, y_t)\n",
    "        y_pred = model.predict_proba(X_v)[:, 1]\n",
    "        auc = roc_auc_score(y_v, y_pred)\n",
    "        auc_scores.append(auc)\n",
    "\n",
    "    # ✅ AUC 점수 정렬 후 출력\n",
    "    sorted_auc = sorted(auc_scores)  # 정렬하면 점수의 변동성을 한눈에 파악 가능\n",
    "    print(f\"\\n📊 {model_name} 4-Fold AUC Scores (정렬됨) = {sorted_auc}\")\n",
    "\n",
    "    # ✅ AUC 평균 및 표준편차 저장\n",
    "    mean_auc = np.mean(auc_scores)\n",
    "    std_auc = np.std(auc_scores)    \n",
    "    cv_results[model_name] = (mean_auc, std_auc)\n",
    "    auc_results[model_name] = auc_scores  # ✅ 개별 AUC 점수 저장\n",
    "\n",
    "    print(f\"📊 {model_name} CV AUC: 평균={mean_auc:.6f}, 표준편차={std_auc:.6f}\")\n",
    "\n",
    "    model_end = time.time()\n",
    "    print(f\"🕒 {model_name} 학습 완료! 소요 시간: {model_end - model_start:.2f}초\\n\")\n",
    "\n",
    "total_time = time.time() - start_time\n",
    "print(f\"\\n🚀 전체 학습 완료! 총 소요 시간: {total_time:.2f}초\")"
   ]
  },
  {
   "cell_type": "code",
   "execution_count": null,
   "metadata": {},
   "outputs": [],
   "source": [
    "# 수정된 컬럼명으로 X, y 분리\n",
    "X = train_subset.drop(columns=['임신 성공 여부'])\n",
    "y = train_subset['임신 성공 여부']"
   ]
  },
  {
   "cell_type": "code",
   "execution_count": 178,
   "metadata": {},
   "outputs": [
    {
     "name": "stdout",
     "output_type": "stream",
     "text": [
      "\n",
      "🚀 XGBoost 모델 GridSearch 시작...\n"
     ]
    },
    {
     "name": "stderr",
     "output_type": "stream",
     "text": [
      "🔍 GridSearch XGBoost:   0%|          | 0/1 [00:00<?, ?it/s]"
     ]
    },
    {
     "name": "stdout",
     "output_type": "stream",
     "text": [
      "Fitting 3 folds for each of 1 candidates, totalling 3 fits\n",
      "[CV 2/3] END learning_rate=0.08, max_depth=3, n_estimators=300;, score=0.710 total time=   1.0s\n",
      "[CV 3/3] END learning_rate=0.08, max_depth=3, n_estimators=300;, score=0.706 total time=   1.1s\n",
      "[CV 1/3] END learning_rate=0.08, max_depth=3, n_estimators=300;, score=0.705 total time=   1.1s\n"
     ]
    },
    {
     "name": "stderr",
     "output_type": "stream",
     "text": [
      "🔍 GridSearch XGBoost: 100%|██████████| 1/1 [00:02<00:00,  2.76s/it]\n"
     ]
    },
    {
     "name": "stdout",
     "output_type": "stream",
     "text": [
      "✅ XGBoost 최적 파라미터: {'learning_rate': 0.08, 'max_depth': 3, 'n_estimators': 300}\n",
      "📌 XGBoost 10-Fold Cross Validation 시작...\n"
     ]
    },
    {
     "name": "stderr",
     "output_type": "stream",
     "text": [
      "🔄 XGBoost CV Progress: 100%|██████████| 4/4 [00:02<00:00,  1.61it/s]"
     ]
    },
    {
     "name": "stdout",
     "output_type": "stream",
     "text": [
      "\n",
      "📊 XGBoost 4-Fold AUC Scores (정렬됨) = [0.7022798626307379, 0.7043853665045158, 0.7094010200311487, 0.7105104445101108]\n",
      "📊 XGBoost CV AUC: 평균=0.706644, 표준편차=0.003417\n",
      "🕒 XGBoost 학습 완료! 소요 시간: 5.25초\n",
      "\n",
      "\n",
      "🚀 전체 학습 완료! 총 소요 시간: 5.26초\n"
     ]
    },
    {
     "name": "stderr",
     "output_type": "stream",
     "text": [
      "\n"
     ]
    }
   ],
   "source": [
    "# 🔹 병렬 처리 설정\n",
    "N_JOBS = 7  # CPU 코어 개수 (변경 가능)\n",
    "\n",
    "# 5️⃣ 10-Fold Cross Validation 및 GridSearch\n",
    "best_models = {}\n",
    "cv_results = {}\n",
    "auc_results = {}  # ✅ AUC 점수 저장할 딕셔너리 추가\n",
    "\n",
    "start_time = time.time()  # 전체 실행 시간 측정 시작\n",
    "\n",
    "for model_name, model in models.items():\n",
    "    print(f\"\\n🚀 {model_name} 모델 GridSearch 시작...\")\n",
    "    model_start = time.time()  # 개별 모델 실행 시간 측정\n",
    "\n",
    "    grid_search = GridSearchCV(\n",
    "        model, param_grid[model_name], \n",
    "        scoring=\"roc_auc\", cv=3, n_jobs=N_JOBS, verbose=3\n",
    "    )\n",
    "    \n",
    "    if model_name == \"CatBoost\":\n",
    "        # ✅ tqdm으로 GridSearch 진행 상황 표시\n",
    "        with tqdm(total=len(param_grid[model_name][\"depth\"]) * \n",
    "                        len(param_grid[model_name][\"learning_rate\"]) * \n",
    "                        len(param_grid[model_name][\"iterations\"]), desc=f\"🔍 GridSearch {model_name}\") as pbar:\n",
    "            grid_search.fit(X, y)\n",
    "            pbar.update()\n",
    "    elif model_name == \"XGBoost\":\n",
    "        # ✅ tqdm으로 GridSearch 진행 상황 표시\n",
    "        with tqdm(total=len(param_grid[model_name][\"max_depth\"]) * \n",
    "                        len(param_grid[model_name][\"learning_rate\"]) * \n",
    "                        len(param_grid[model_name][\"n_estimators\"]), desc=f\"🔍 GridSearch {model_name}\") as pbar:\n",
    "            grid_search.fit(X, y)\n",
    "            pbar.update()\n",
    "    elif model_name == \"RandomForest\":\n",
    "        with tqdm(total=len(param_grid[model_name][\"max_depth\"]) * \n",
    "                        len(param_grid[model_name][\"n_estimators\"]) * \n",
    "                        len(param_grid[model_name][\"min_samples_split\"]), desc=f\"🔍 GridSearch {model_name}\") as pbar:\n",
    "            grid_search.fit(X, y)\n",
    "            pbar.update()\n",
    "\n",
    "    # 최적 모델 저장\n",
    "    best_models[model_name] = grid_search.best_estimator_\n",
    "    print(f\"✅ {model_name} 최적 파라미터: {grid_search.best_params_}\")\n",
    "\n",
    "    # ✅ 10-Fold Cross Validation 진행 상황을 tqdm으로 표시\n",
    "    print(f\"📌 {model_name} 10-Fold Cross Validation 시작...\")\n",
    "    skf = StratifiedKFold(n_splits=4, shuffle=True, random_state=42)\n",
    "    auc_scores = []\n",
    "\n",
    "    for fold_idx, (train_idx, val_idx) in tqdm(enumerate(skf.split(X, y), 1), total=4, desc=f\"🔄 {model_name} CV Progress\"):\n",
    "        X_t, X_v = X.iloc[train_idx], X.iloc[val_idx]\n",
    "        y_t, y_v = y.iloc[train_idx], y.iloc[val_idx]\n",
    "\n",
    "        model = grid_search.best_estimator_\n",
    "        model.fit(X_t, y_t)\n",
    "        y_pred = model.predict_proba(X_v)[:, 1]\n",
    "        auc = roc_auc_score(y_v, y_pred)\n",
    "        auc_scores.append(auc)\n",
    "\n",
    "    # ✅ AUC 점수 정렬 후 출력\n",
    "    sorted_auc = sorted(auc_scores)  # 정렬하면 점수의 변동성을 한눈에 파악 가능\n",
    "    print(f\"\\n📊 {model_name} 4-Fold AUC Scores (정렬됨) = {sorted_auc}\")\n",
    "\n",
    "    # ✅ AUC 평균 및 표준편차 저장\n",
    "    mean_auc = np.mean(auc_scores)\n",
    "    std_auc = np.std(auc_scores)    \n",
    "    cv_results[model_name] = (mean_auc, std_auc)\n",
    "    auc_results[model_name] = auc_scores  # ✅ 개별 AUC 점수 저장\n",
    "\n",
    "    print(f\"📊 {model_name} CV AUC: 평균={mean_auc:.6f}, 표준편차={std_auc:.6f}\")\n",
    "\n",
    "    model_end = time.time()\n",
    "    print(f\"🕒 {model_name} 학습 완료! 소요 시간: {model_end - model_start:.2f}초\\n\")\n",
    "\n",
    "total_time = time.time() - start_time\n",
    "print(f\"\\n🚀 전체 학습 완료! 총 소요 시간: {total_time:.2f}초\")"
   ]
  },
  {
   "cell_type": "code",
   "execution_count": 179,
   "metadata": {},
   "outputs": [
    {
     "data": {
      "text/html": [
       "<div>\n",
       "<style scoped>\n",
       "    .dataframe tbody tr th:only-of-type {\n",
       "        vertical-align: middle;\n",
       "    }\n",
       "\n",
       "    .dataframe tbody tr th {\n",
       "        vertical-align: top;\n",
       "    }\n",
       "\n",
       "    .dataframe thead th {\n",
       "        text-align: right;\n",
       "    }\n",
       "</style>\n",
       "<table border=\"1\" class=\"dataframe\">\n",
       "  <thead>\n",
       "    <tr style=\"text-align: right;\">\n",
       "      <th></th>\n",
       "      <th>XGBoost</th>\n",
       "    </tr>\n",
       "  </thead>\n",
       "  <tbody>\n",
       "    <tr>\n",
       "      <th>0</th>\n",
       "      <td>0.709401</td>\n",
       "    </tr>\n",
       "    <tr>\n",
       "      <th>1</th>\n",
       "      <td>0.702280</td>\n",
       "    </tr>\n",
       "    <tr>\n",
       "      <th>2</th>\n",
       "      <td>0.710510</td>\n",
       "    </tr>\n",
       "    <tr>\n",
       "      <th>3</th>\n",
       "      <td>0.704385</td>\n",
       "    </tr>\n",
       "  </tbody>\n",
       "</table>\n",
       "</div>"
      ],
      "text/plain": [
       "    XGBoost\n",
       "0  0.709401\n",
       "1  0.702280\n",
       "2  0.710510\n",
       "3  0.704385"
      ]
     },
     "metadata": {},
     "output_type": "display_data"
    }
   ],
   "source": [
    "# ✅ AUC 결과를 DataFrame으로 변환하여 CSV로 저장 (원하면 확인 가능)\n",
    "auc_df = pd.DataFrame(auc_results)\n",
    "display(auc_df)"
   ]
  },
  {
   "cell_type": "markdown",
   "metadata": {},
   "source": [
    "# Finalize"
   ]
  },
  {
   "cell_type": "code",
   "execution_count": 159,
   "metadata": {},
   "outputs": [
    {
     "name": "stdout",
     "output_type": "stream",
     "text": [
      "\n",
      "🚀 최적 하이퍼파라미터로 Final Model 학습 시작...\n",
      "✅ Final Model 학습 완료!\n",
      "\n",
      "🚀 Test 데이터 예측 (predict_proba) 시작...\n"
     ]
    }
   ],
   "source": [
    "# 7️⃣ 최적 하이퍼파라미터로 최종 모델 학습 (전체 데이터 사용)\n",
    "print(\"\\n🚀 최적 하이퍼파라미터로 Final Model 학습 시작...\")\n",
    "\n",
    "# 전체 데이터로 다시 X, y 설정\n",
    "X = train.drop(columns=['임신 성공 여부'])  # ✅ 컬럼명에 공백 없애기\n",
    "y = train['임신 성공 여부']\n",
    "\n",
    "# 최적 파라미터 가져오기\n",
    "# best_params = best_models[\"CatBoost\"].get_params()\n",
    "best_params = {'depth': 6, 'iterations': 500, 'learning_rate': 0.05}\n",
    "best_params.update({\"verbose\": 0, \"random_state\": 42, \"thread_count\": N_JOBS})  # ✅ 불필요한 verbose 제거\n",
    "\n",
    "# 최종 모델 훈련\n",
    "final_model = CatBoostClassifier(**best_params)\n",
    "final_model.fit(X, y)\n",
    "\n",
    "print(\"✅ Final Model 학습 완료!\")\n",
    "\n",
    "# 8️⃣ Test 데이터에 대해 predict_proba 수행\n",
    "print(\"\\n🚀 Test 데이터 예측 (predict_proba) 시작...\")\n",
    "\n",
    "# test 데이터 로드 (파일명 확인 필요)\n",
    "# test = pd.read_csv(\"./test_Preprocessed_paper_col.csv\", index_col=0)\n",
    "X_test = test.copy()  # 예측을 위한 X_test 준비\n",
    "\n",
    "# 예측 수행 (확률 값)\n",
    "test_preds = final_model.predict_proba(X_test)[:, 1]  # 양성(1)의 확률값 가져오기\n"
   ]
  },
  {
   "cell_type": "code",
   "execution_count": 59,
   "metadata": {},
   "outputs": [
    {
     "name": "stdout",
     "output_type": "stream",
     "text": [
      "\n",
      "🚀 최적 하이퍼파라미터로 Final Model 학습 시작...\n"
     ]
    },
    {
     "name": "stderr",
     "output_type": "stream",
     "text": [
      "/Users/dowenty/anaconda3/envs/aimers/lib/python3.9/site-packages/xgboost/core.py:158: UserWarning: [15:22:48] WARNING: /Users/runner/work/xgboost/xgboost/src/learner.cc:740: \n",
      "Parameters: { \"thread_count\", \"verbose\" } are not used.\n",
      "\n",
      "  warnings.warn(smsg, UserWarning)\n"
     ]
    },
    {
     "name": "stdout",
     "output_type": "stream",
     "text": [
      "✅ Final Model 학습 완료!\n",
      "\n",
      "🚀 Test 데이터 예측 (predict_proba) 시작...\n"
     ]
    }
   ],
   "source": [
    "# 7️⃣ 최적 하이퍼파라미터로 최종 모델 학습 (전체 데이터 사용)\n",
    "print(\"\\n🚀 최적 하이퍼파라미터로 Final Model 학습 시작...\")\n",
    "\n",
    "# 전체 데이터로 다시 X, y 설정\n",
    "X = train.drop(columns=['임신 성공 여부'])  # ✅ 컬럼명에 공백 없애기\n",
    "y = train['임신 성공 여부']\n",
    "\n",
    "# 최적 파라미터 가져오기\n",
    "best_params = best_models[\"XGBoost\"].get_params()\n",
    "best_params.update({\"verbose\": 0, \"random_state\": 42, \"thread_count\": N_JOBS})  # ✅ 불필요한 verbose 제거\n",
    "\n",
    "# # 최종 모델 훈련\n",
    "final_model = XGBClassifier(**best_params)\n",
    "final_model.fit(X, y)\n",
    "\n",
    "print(\"✅ Final Model 학습 완료!\")\n",
    "\n",
    "# 8️⃣ Test 데이터에 대해 predict_proba 수행\n",
    "print(\"\\n🚀 Test 데이터 예측 (predict_proba) 시작...\")\n",
    "\n",
    "# test 데이터 로드 (파일명 확인 필요)\n",
    "# test = pd.read_csv(\"./test_Preprocessed_paper_col.csv\", index_col=0)\n",
    "X_test = test.copy()  # 예측을 위한 X_test 준비\n",
    "\n",
    "# 예측 수행 (확률 값)\n",
    "test_preds = final_model.predict_proba(X_test)[:, 1]  # 양성(1)의 확률값 가져오기\n"
   ]
  },
  {
   "cell_type": "markdown",
   "metadata": {},
   "source": [
    "## Finalize for subset"
   ]
  },
  {
   "cell_type": "code",
   "execution_count": 160,
   "metadata": {},
   "outputs": [
    {
     "name": "stdout",
     "output_type": "stream",
     "text": [
      "\n",
      "🚀 최적 하이퍼파라미터로 Final Model 학습 시작...\n",
      "✅ Final Model 학습 완료!\n",
      "\n",
      "🚀 Test 데이터 예측 (predict_proba) 시작...\n"
     ]
    }
   ],
   "source": [
    "# 7️⃣ 최적 하이퍼파라미터로 최종 모델 학습 (전체 데이터 사용)\n",
    "print(\"\\n🚀 최적 하이퍼파라미터로 Final Model 학습 시작...\")\n",
    "\n",
    "# 전체 데이터로 다시 X, y 설정\n",
    "X = train_subset.drop(columns=['임신 성공 여부'])  # ✅ 컬럼명에 공백 없애기\n",
    "y = train_subset['임신 성공 여부']\n",
    "\n",
    "# 최적 파라미터 가져오기\n",
    "best_params = {'depth': 6, 'iterations': 500, 'learning_rate': 0.05}\n",
    "best_params.update({\"verbose\": 0, \"random_state\": 42, \"thread_count\": N_JOBS})  # ✅ 불필요한 verbose 제거\n",
    "\n",
    "# 최종 모델 훈련\n",
    "final_model = CatBoostClassifier(**best_params)\n",
    "final_model.fit(X, y)\n",
    "\n",
    "print(\"✅ Final Model 학습 완료!\")\n",
    "\n",
    "# 8️⃣ Test 데이터에 대해 predict_proba 수행\n",
    "print(\"\\n🚀 Test 데이터 예측 (predict_proba) 시작...\")\n",
    "\n",
    "# test 데이터 로드 (파일명 확인 필요)\n",
    "# test = pd.read_csv(\"./test_Preprocessed_paper_col.csv\", index_col=0)\n",
    "X_test = test_subset.copy()  # 예측을 위한 X_test 준비\n",
    "\n",
    "# 예측 수행 (확률 값)\n",
    "test_preds_subset = final_model.predict_proba(X_test)[:, 1]  # 양성(1)의 확률값 가져오기\n"
   ]
  },
  {
   "cell_type": "code",
   "execution_count": 161,
   "metadata": {},
   "outputs": [],
   "source": [
    "test_preds_df = pd.DataFrame(test_preds)\n",
    "test_preds_df = test_preds_df.set_index(test.reset_index()['index'])\n",
    "\n",
    "test_preds_subset_df = pd.DataFrame(test_preds_subset)\n",
    "test_preds_subset_df = test_preds_subset_df.set_index(test_subset.reset_index()['index'])\n",
    "\n",
    "test_preds = pd.concat([test_preds_df, test_preds_subset_df]).sort_index()"
   ]
  },
  {
   "cell_type": "markdown",
   "metadata": {},
   "source": [
    "# Submission"
   ]
  },
  {
   "cell_type": "code",
   "execution_count": 162,
   "metadata": {},
   "outputs": [
    {
     "data": {
      "text/html": [
       "<div>\n",
       "<style scoped>\n",
       "    .dataframe tbody tr th:only-of-type {\n",
       "        vertical-align: middle;\n",
       "    }\n",
       "\n",
       "    .dataframe tbody tr th {\n",
       "        vertical-align: top;\n",
       "    }\n",
       "\n",
       "    .dataframe thead th {\n",
       "        text-align: right;\n",
       "    }\n",
       "</style>\n",
       "<table border=\"1\" class=\"dataframe\">\n",
       "  <thead>\n",
       "    <tr style=\"text-align: right;\">\n",
       "      <th></th>\n",
       "      <th>ID</th>\n",
       "      <th>probability</th>\n",
       "    </tr>\n",
       "  </thead>\n",
       "  <tbody>\n",
       "    <tr>\n",
       "      <th>0</th>\n",
       "      <td>TEST_00000</td>\n",
       "      <td>0.001617</td>\n",
       "    </tr>\n",
       "    <tr>\n",
       "      <th>1</th>\n",
       "      <td>TEST_00001</td>\n",
       "      <td>0.001532</td>\n",
       "    </tr>\n",
       "    <tr>\n",
       "      <th>2</th>\n",
       "      <td>TEST_00002</td>\n",
       "      <td>0.156815</td>\n",
       "    </tr>\n",
       "    <tr>\n",
       "      <th>3</th>\n",
       "      <td>TEST_00003</td>\n",
       "      <td>0.102414</td>\n",
       "    </tr>\n",
       "    <tr>\n",
       "      <th>4</th>\n",
       "      <td>TEST_00004</td>\n",
       "      <td>0.490375</td>\n",
       "    </tr>\n",
       "    <tr>\n",
       "      <th>...</th>\n",
       "      <td>...</td>\n",
       "      <td>...</td>\n",
       "    </tr>\n",
       "    <tr>\n",
       "      <th>90062</th>\n",
       "      <td>TEST_90062</td>\n",
       "      <td>0.002819</td>\n",
       "    </tr>\n",
       "    <tr>\n",
       "      <th>90063</th>\n",
       "      <td>TEST_90063</td>\n",
       "      <td>0.297091</td>\n",
       "    </tr>\n",
       "    <tr>\n",
       "      <th>90064</th>\n",
       "      <td>TEST_90064</td>\n",
       "      <td>0.352995</td>\n",
       "    </tr>\n",
       "    <tr>\n",
       "      <th>90065</th>\n",
       "      <td>TEST_90065</td>\n",
       "      <td>0.224825</td>\n",
       "    </tr>\n",
       "    <tr>\n",
       "      <th>90066</th>\n",
       "      <td>TEST_90066</td>\n",
       "      <td>0.001673</td>\n",
       "    </tr>\n",
       "  </tbody>\n",
       "</table>\n",
       "<p>90067 rows × 2 columns</p>\n",
       "</div>"
      ],
      "text/plain": [
       "               ID  probability\n",
       "0      TEST_00000     0.001617\n",
       "1      TEST_00001     0.001532\n",
       "2      TEST_00002     0.156815\n",
       "3      TEST_00003     0.102414\n",
       "4      TEST_00004     0.490375\n",
       "...           ...          ...\n",
       "90062  TEST_90062     0.002819\n",
       "90063  TEST_90063     0.297091\n",
       "90064  TEST_90064     0.352995\n",
       "90065  TEST_90065     0.224825\n",
       "90066  TEST_90066     0.001673\n",
       "\n",
       "[90067 rows x 2 columns]"
      ]
     },
     "metadata": {},
     "output_type": "display_data"
    }
   ],
   "source": [
    "from datetime import datetime\n",
    "\n",
    "sample_submission = pd.read_csv('./submit/sample_submission.csv')\n",
    "sample_submission['probability'] = test_preds\n",
    "display(sample_submission)"
   ]
  },
  {
   "cell_type": "code",
   "execution_count": 163,
   "metadata": {},
   "outputs": [],
   "source": [
    "# 제출할 파일명\n",
    "today = datetime.now().strftime('%m%d_%H%M%S')\n",
    "file_name = f\"./submit/submit_jiho+doeun_{today}.csv\"\n",
    "sample_submission.to_csv(file_name, index=False)"
   ]
  },
  {
   "cell_type": "code",
   "execution_count": null,
   "metadata": {},
   "outputs": [],
   "source": []
  }
 ],
 "metadata": {
  "kernelspec": {
   "display_name": "aimers",
   "language": "python",
   "name": "python3"
  },
  "language_info": {
   "codemirror_mode": {
    "name": "ipython",
    "version": 3
   },
   "file_extension": ".py",
   "mimetype": "text/x-python",
   "name": "python",
   "nbconvert_exporter": "python",
   "pygments_lexer": "ipython3",
   "version": "3.9.19"
  }
 },
 "nbformat": 4,
 "nbformat_minor": 2
}
