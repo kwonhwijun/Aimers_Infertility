{
 "cells": [
  {
   "cell_type": "code",
   "execution_count": 4,
   "metadata": {},
   "outputs": [],
   "source": [
    "import numpy as np\n",
    "import pandas as pd\n"
   ]
  },
  {
   "cell_type": "code",
   "execution_count": null,
   "metadata": {},
   "outputs": [
    {
     "data": {
      "text/html": [
       "<div>\n",
       "<style scoped>\n",
       "    .dataframe tbody tr th:only-of-type {\n",
       "        vertical-align: middle;\n",
       "    }\n",
       "\n",
       "    .dataframe tbody tr th {\n",
       "        vertical-align: top;\n",
       "    }\n",
       "\n",
       "    .dataframe thead th {\n",
       "        text-align: right;\n",
       "    }\n",
       "</style>\n",
       "<table border=\"1\" class=\"dataframe\">\n",
       "  <thead>\n",
       "    <tr style=\"text-align: right;\">\n",
       "      <th></th>\n",
       "      <th>ID</th>\n",
       "      <th>시술 시기 코드</th>\n",
       "      <th>시술 당시 나이</th>\n",
       "      <th>임신 시도 또는 마지막 임신 경과 연수</th>\n",
       "      <th>시술 유형</th>\n",
       "      <th>특정 시술 유형</th>\n",
       "      <th>배란 자극 여부</th>\n",
       "      <th>배란 유도 유형</th>\n",
       "      <th>단일 배아 이식 여부</th>\n",
       "      <th>착상 전 유전 검사 사용 여부</th>\n",
       "      <th>...</th>\n",
       "      <th>기증 배아 사용 여부</th>\n",
       "      <th>대리모 여부</th>\n",
       "      <th>PGD 시술 여부</th>\n",
       "      <th>PGS 시술 여부</th>\n",
       "      <th>난자 채취 경과일</th>\n",
       "      <th>난자 해동 경과일</th>\n",
       "      <th>난자 혼합 경과일</th>\n",
       "      <th>배아 이식 경과일</th>\n",
       "      <th>배아 해동 경과일</th>\n",
       "      <th>임신 성공 여부</th>\n",
       "    </tr>\n",
       "  </thead>\n",
       "  <tbody>\n",
       "    <tr>\n",
       "      <th>0</th>\n",
       "      <td>TRAIN_000000</td>\n",
       "      <td>TRZKPL</td>\n",
       "      <td>만18-34세</td>\n",
       "      <td>NaN</td>\n",
       "      <td>IVF</td>\n",
       "      <td>ICSI</td>\n",
       "      <td>1</td>\n",
       "      <td>기록되지 않은 시행</td>\n",
       "      <td>0.0</td>\n",
       "      <td>NaN</td>\n",
       "      <td>...</td>\n",
       "      <td>0.0</td>\n",
       "      <td>0.0</td>\n",
       "      <td>NaN</td>\n",
       "      <td>NaN</td>\n",
       "      <td>0.0</td>\n",
       "      <td>NaN</td>\n",
       "      <td>0.0</td>\n",
       "      <td>3.0</td>\n",
       "      <td>NaN</td>\n",
       "      <td>0</td>\n",
       "    </tr>\n",
       "    <tr>\n",
       "      <th>1</th>\n",
       "      <td>TRAIN_000001</td>\n",
       "      <td>TRYBLT</td>\n",
       "      <td>만45-50세</td>\n",
       "      <td>NaN</td>\n",
       "      <td>IVF</td>\n",
       "      <td>ICSI</td>\n",
       "      <td>0</td>\n",
       "      <td>알 수 없음</td>\n",
       "      <td>0.0</td>\n",
       "      <td>NaN</td>\n",
       "      <td>...</td>\n",
       "      <td>0.0</td>\n",
       "      <td>0.0</td>\n",
       "      <td>NaN</td>\n",
       "      <td>NaN</td>\n",
       "      <td>0.0</td>\n",
       "      <td>NaN</td>\n",
       "      <td>0.0</td>\n",
       "      <td>NaN</td>\n",
       "      <td>NaN</td>\n",
       "      <td>0</td>\n",
       "    </tr>\n",
       "    <tr>\n",
       "      <th>2</th>\n",
       "      <td>TRAIN_000002</td>\n",
       "      <td>TRVNRY</td>\n",
       "      <td>만18-34세</td>\n",
       "      <td>NaN</td>\n",
       "      <td>IVF</td>\n",
       "      <td>IVF</td>\n",
       "      <td>1</td>\n",
       "      <td>기록되지 않은 시행</td>\n",
       "      <td>0.0</td>\n",
       "      <td>NaN</td>\n",
       "      <td>...</td>\n",
       "      <td>0.0</td>\n",
       "      <td>0.0</td>\n",
       "      <td>NaN</td>\n",
       "      <td>NaN</td>\n",
       "      <td>0.0</td>\n",
       "      <td>NaN</td>\n",
       "      <td>0.0</td>\n",
       "      <td>2.0</td>\n",
       "      <td>NaN</td>\n",
       "      <td>0</td>\n",
       "    </tr>\n",
       "    <tr>\n",
       "      <th>3</th>\n",
       "      <td>TRAIN_000003</td>\n",
       "      <td>TRJXFG</td>\n",
       "      <td>만35-37세</td>\n",
       "      <td>NaN</td>\n",
       "      <td>IVF</td>\n",
       "      <td>ICSI</td>\n",
       "      <td>1</td>\n",
       "      <td>기록되지 않은 시행</td>\n",
       "      <td>0.0</td>\n",
       "      <td>NaN</td>\n",
       "      <td>...</td>\n",
       "      <td>0.0</td>\n",
       "      <td>0.0</td>\n",
       "      <td>NaN</td>\n",
       "      <td>NaN</td>\n",
       "      <td>0.0</td>\n",
       "      <td>NaN</td>\n",
       "      <td>0.0</td>\n",
       "      <td>NaN</td>\n",
       "      <td>NaN</td>\n",
       "      <td>0</td>\n",
       "    </tr>\n",
       "    <tr>\n",
       "      <th>4</th>\n",
       "      <td>TRAIN_000004</td>\n",
       "      <td>TRVNRY</td>\n",
       "      <td>만18-34세</td>\n",
       "      <td>NaN</td>\n",
       "      <td>IVF</td>\n",
       "      <td>ICSI</td>\n",
       "      <td>1</td>\n",
       "      <td>기록되지 않은 시행</td>\n",
       "      <td>0.0</td>\n",
       "      <td>NaN</td>\n",
       "      <td>...</td>\n",
       "      <td>0.0</td>\n",
       "      <td>0.0</td>\n",
       "      <td>NaN</td>\n",
       "      <td>NaN</td>\n",
       "      <td>0.0</td>\n",
       "      <td>NaN</td>\n",
       "      <td>0.0</td>\n",
       "      <td>3.0</td>\n",
       "      <td>NaN</td>\n",
       "      <td>0</td>\n",
       "    </tr>\n",
       "  </tbody>\n",
       "</table>\n",
       "<p>5 rows × 69 columns</p>\n",
       "</div>"
      ],
      "text/plain": [
       "             ID 시술 시기 코드 시술 당시 나이  임신 시도 또는 마지막 임신 경과 연수 시술 유형 특정 시술 유형  \\\n",
       "0  TRAIN_000000   TRZKPL  만18-34세                    NaN   IVF     ICSI   \n",
       "1  TRAIN_000001   TRYBLT  만45-50세                    NaN   IVF     ICSI   \n",
       "2  TRAIN_000002   TRVNRY  만18-34세                    NaN   IVF      IVF   \n",
       "3  TRAIN_000003   TRJXFG  만35-37세                    NaN   IVF     ICSI   \n",
       "4  TRAIN_000004   TRVNRY  만18-34세                    NaN   IVF     ICSI   \n",
       "\n",
       "   배란 자극 여부    배란 유도 유형  단일 배아 이식 여부  착상 전 유전 검사 사용 여부  ...  기증 배아 사용 여부  \\\n",
       "0         1  기록되지 않은 시행          0.0               NaN  ...          0.0   \n",
       "1         0      알 수 없음          0.0               NaN  ...          0.0   \n",
       "2         1  기록되지 않은 시행          0.0               NaN  ...          0.0   \n",
       "3         1  기록되지 않은 시행          0.0               NaN  ...          0.0   \n",
       "4         1  기록되지 않은 시행          0.0               NaN  ...          0.0   \n",
       "\n",
       "   대리모 여부  PGD 시술 여부  PGS 시술 여부  난자 채취 경과일  난자 해동 경과일  난자 혼합 경과일  배아 이식 경과일  \\\n",
       "0     0.0        NaN        NaN        0.0        NaN        0.0        3.0   \n",
       "1     0.0        NaN        NaN        0.0        NaN        0.0        NaN   \n",
       "2     0.0        NaN        NaN        0.0        NaN        0.0        2.0   \n",
       "3     0.0        NaN        NaN        0.0        NaN        0.0        NaN   \n",
       "4     0.0        NaN        NaN        0.0        NaN        0.0        3.0   \n",
       "\n",
       "   배아 해동 경과일  임신 성공 여부  \n",
       "0        NaN         0  \n",
       "1        NaN         0  \n",
       "2        NaN         0  \n",
       "3        NaN         0  \n",
       "4        NaN         0  \n",
       "\n",
       "[5 rows x 69 columns]"
      ]
     },
     "execution_count": 9,
     "metadata": {},
     "output_type": "execute_result"
    }
   ],
   "source": [
    "data = pd.read_csv('/Users/hj/projects/Aimers/data/raw/train.csv')\n"
   ]
  },
  {
   "cell_type": "code",
   "execution_count": 11,
   "metadata": {},
   "outputs": [],
   "source": [
    "data.head()\n",
    "y = data['임신 성공 여부']"
   ]
  },
  {
   "cell_type": "code",
   "execution_count": 15,
   "metadata": {},
   "outputs": [
    {
     "data": {
      "text/plain": [
       "(256351, 69)"
      ]
     },
     "execution_count": 15,
     "metadata": {},
     "output_type": "execute_result"
    }
   ],
   "source": [
    "data.shape # (256351, 69)"
   ]
  },
  {
   "cell_type": "code",
   "execution_count": null,
   "metadata": {},
   "outputs": [
    {
     "name": "stdout",
     "output_type": "stream",
     "text": [
      "<class 'pandas.core.frame.DataFrame'>\n",
      "RangeIndex: 256351 entries, 0 to 256350\n",
      "Data columns (total 69 columns):\n",
      " #   Column                 Non-Null Count   Dtype  \n",
      "---  ------                 --------------   -----  \n",
      " 0   ID                     256351 non-null  object \n",
      " 1   시술 시기 코드               256351 non-null  object \n",
      " 2   시술 당시 나이               256351 non-null  object \n",
      " 3   임신 시도 또는 마지막 임신 경과 연수  9370 non-null    float64\n",
      " 4   시술 유형                  256351 non-null  object \n",
      " 5   특정 시술 유형               256349 non-null  object \n",
      " 6   배란 자극 여부               256351 non-null  int64  \n",
      " 7   배란 유도 유형               256351 non-null  object \n",
      " 8   단일 배아 이식 여부            250060 non-null  float64\n",
      " 9   착상 전 유전 검사 사용 여부       2718 non-null    float64\n",
      " 10  착상 전 유전 진단 사용 여부       250060 non-null  float64\n",
      " 11  남성 주 불임 원인             256351 non-null  int64  \n",
      " 12  남성 부 불임 원인             256351 non-null  int64  \n",
      " 13  여성 주 불임 원인             256351 non-null  int64  \n",
      " 14  여성 부 불임 원인             256351 non-null  int64  \n",
      " 15  부부 주 불임 원인             256351 non-null  int64  \n",
      " 16  부부 부 불임 원인             256351 non-null  int64  \n",
      " 17  불명확 불임 원인              256351 non-null  int64  \n",
      " 18  불임 원인 - 난관 질환          256351 non-null  int64  \n",
      " 19  불임 원인 - 남성 요인          256351 non-null  int64  \n",
      " 20  불임 원인 - 배란 장애          256351 non-null  int64  \n",
      " 21  불임 원인 - 여성 요인          256351 non-null  int64  \n",
      " 22  불임 원인 - 자궁경부 문제        256351 non-null  int64  \n",
      " 23  불임 원인 - 자궁내막증          256351 non-null  int64  \n",
      " 24  불임 원인 - 정자 농도          256351 non-null  int64  \n",
      " 25  불임 원인 - 정자 면역학적 요인     256351 non-null  int64  \n",
      " 26  불임 원인 - 정자 운동성         256351 non-null  int64  \n",
      " 27  불임 원인 - 정자 형태          256351 non-null  int64  \n",
      " 28  배아 생성 주요 이유            250060 non-null  object \n",
      " 29  총 시술 횟수                256351 non-null  object \n",
      " 30  클리닉 내 총 시술 횟수          256351 non-null  object \n",
      " 31  IVF 시술 횟수              256351 non-null  object \n",
      " 32  DI 시술 횟수               256351 non-null  object \n",
      " 33  총 임신 횟수                256351 non-null  object \n",
      " 34  IVF 임신 횟수              256351 non-null  object \n",
      " 35  DI 임신 횟수               256351 non-null  object \n",
      " 36  총 출산 횟수                256351 non-null  object \n",
      " 37  IVF 출산 횟수              256351 non-null  object \n",
      " 38  DI 출산 횟수               256351 non-null  object \n",
      " 39  총 생성 배아 수              250060 non-null  float64\n",
      " 40  미세주입된 난자 수             250060 non-null  float64\n",
      " 41  미세주입에서 생성된 배아 수        250060 non-null  float64\n",
      " 42  이식된 배아 수               250060 non-null  float64\n",
      " 43  미세주입 배아 이식 수           250060 non-null  float64\n",
      " 44  저장된 배아 수               250060 non-null  float64\n",
      " 45  미세주입 후 저장된 배아 수        250060 non-null  float64\n",
      " 46  해동된 배아 수               250060 non-null  float64\n",
      " 47  해동 난자 수                250060 non-null  float64\n",
      " 48  수집된 신선 난자 수            250060 non-null  float64\n",
      " 49  저장된 신선 난자 수            250060 non-null  float64\n",
      " 50  혼합된 난자 수               250060 non-null  float64\n",
      " 51  파트너 정자와 혼합된 난자 수       250060 non-null  float64\n",
      " 52  기증자 정자와 혼합된 난자 수       250060 non-null  float64\n",
      " 53  난자 출처                  256351 non-null  object \n",
      " 54  정자 출처                  256351 non-null  object \n",
      " 55  난자 기증자 나이              256351 non-null  object \n",
      " 56  정자 기증자 나이              256351 non-null  object \n",
      " 57  동결 배아 사용 여부            250060 non-null  float64\n",
      " 58  신선 배아 사용 여부            250060 non-null  float64\n",
      " 59  기증 배아 사용 여부            250060 non-null  float64\n",
      " 60  대리모 여부                 250060 non-null  float64\n",
      " 61  PGD 시술 여부              2179 non-null    float64\n",
      " 62  PGS 시술 여부              1929 non-null    float64\n",
      " 63  난자 채취 경과일              198863 non-null  float64\n",
      " 64  난자 해동 경과일              1436 non-null    float64\n",
      " 65  난자 혼합 경과일              202616 non-null  float64\n",
      " 66  배아 이식 경과일              212785 non-null  float64\n",
      " 67  배아 해동 경과일              40369 non-null   float64\n",
      " 68  임신 성공 여부               256351 non-null  int64  \n",
      "dtypes: float64(29), int64(19), object(21)\n",
      "memory usage: 135.0+ MB\n"
     ]
    }
   ],
   "source": [
    "data.info()"
   ]
  },
  {
   "cell_type": "code",
   "execution_count": 16,
   "metadata": {},
   "outputs": [
    {
     "name": "stdout",
     "output_type": "stream",
     "text": [
      "ID                            0\n",
      "시술 시기 코드                      0\n",
      "시술 당시 나이                      0\n",
      "임신 시도 또는 마지막 임신 경과 연수    246981\n",
      "시술 유형                         0\n",
      "                          ...  \n",
      "난자 해동 경과일                254915\n",
      "난자 혼합 경과일                 53735\n",
      "배아 이식 경과일                 43566\n",
      "배아 해동 경과일                215982\n",
      "임신 성공 여부                      0\n",
      "Length: 69, dtype: int64\n"
     ]
    }
   ],
   "source": [
    "# 결측치 \n",
    "print(data.isnull().sum()) # 결측을 보는 다른 방법 추가하기"
   ]
  },
  {
   "cell_type": "code",
   "execution_count": 23,
   "metadata": {},
   "outputs": [
    {
     "data": {
      "text/plain": [
       "부부 주 불임 원인           -0.016099\n",
       "여성 부 불임 원인           -0.016034\n",
       "남성 부 불임 원인           -0.016025\n",
       "여성 주 불임 원인           -0.015945\n",
       "부부 부 불임 원인           -0.015346\n",
       "남성 주 불임 원인           -0.015020\n",
       "불임 원인 - 정자 운동성       -0.003693\n",
       "불임 원인 - 자궁경부 문제      -0.003686\n",
       "불임 원인 - 자궁내막증        -0.002226\n",
       "불임 원인 - 정자 형태        -0.001866\n",
       "불임 원인 - 정자 면역학적 요인   -0.001166\n",
       "불임 원인 - 정자 농도        -0.000626\n",
       "불임 원인 - 난관 질환        -0.000544\n",
       "불명확 불임 원인             0.001473\n",
       "불임 원인 - 배란 장애         0.025021\n",
       "배란 자극 여부              0.033212\n",
       "불임 원인 - 남성 요인         0.037908\n",
       "임신 성공 여부              1.000000\n",
       "불임 원인 - 여성 요인              NaN\n",
       "Name: 임신 성공 여부, dtype: float64"
      ]
     },
     "execution_count": 23,
     "metadata": {},
     "output_type": "execute_result"
    }
   ],
   "source": [
    "# 상관관계 확인 \n",
    "num_data = data.select_dtypes('int')\n",
    "corr_m = num_data.corr()\n",
    "corr_m['임신 성공 여부'].sort_values()"
   ]
  },
  {
   "cell_type": "code",
   "execution_count": null,
   "metadata": {},
   "outputs": [
    {
     "name": "stdout",
     "output_type": "stream",
     "text": [
      "Index(['ID', '시술 시기 코드', '시술 당시 나이', '시술 유형', '특정 시술 유형', '배란 유도 유형',\n",
      "       '배아 생성 주요 이유', '총 시술 횟수', '클리닉 내 총 시술 횟수', 'IVF 시술 횟수', 'DI 시술 횟수',\n",
      "       '총 임신 횟수', 'IVF 임신 횟수', 'DI 임신 횟수', '총 출산 횟수', 'IVF 출산 횟수', 'DI 출산 횟수',\n",
      "       '난자 출처', '정자 출처', '난자 기증자 나이', '정자 기증자 나이'],\n",
      "      dtype='object')\n",
      "256351\n",
      "7\n",
      "7\n",
      "2\n",
      "24\n",
      "4\n",
      "13\n",
      "7\n",
      "7\n",
      "7\n",
      "7\n",
      "7\n",
      "7\n",
      "6\n",
      "7\n",
      "6\n",
      "5\n",
      "3\n",
      "4\n",
      "5\n",
      "7\n"
     ]
    }
   ],
   "source": [
    "# 범주형 변수 EDA \n",
    "cate_cols = data.select_dtypes('object')\n",
    "print(cate_cols.columns)\n",
    "\n",
    "for col in cate_cols :\n",
    "    print(data[col].nunique())  # ID 제외, "
   ]
  },
  {
   "cell_type": "code",
   "execution_count": 28,
   "metadata": {},
   "outputs": [],
   "source": [
    "# \n",
    "from sklearn.preprocessing import LabelEncoder\n",
    "from sklearn.model_selection import train_test_split\n",
    "from sklearn.ensemble import RandomForestClassifier\n",
    "from sklearn.metrics import classification_report\n",
    "\n",
    "drop_cols = ['특정 시술 유형', '배아 생성 주요 이유', 'ID']\n",
    "df = data.drop(columns = drop_cols)"
   ]
  },
  {
   "cell_type": "code",
   "execution_count": 33,
   "metadata": {},
   "outputs": [],
   "source": [
    "X = df.drop('임신 성공 여부', axis=1)\n",
    "y = df['임신 성공 여부']"
   ]
  },
  {
   "cell_type": "code",
   "execution_count": 34,
   "metadata": {},
   "outputs": [],
   "source": [
    "from sklearn.impute import SimpleImputer\n",
    "# 5. 결측치 처리\n",
    "# 숫자형과 범주형 칼럼 분리\n",
    "numeric_cols = X.select_dtypes(include=['int', 'float']).columns\n",
    "categorical_cols = X.select_dtypes(include=['object']).columns\n",
    "\n",
    "# 숫자형 변수: 중앙값으로 대체\n",
    "imputer_num = SimpleImputer(strategy='median')\n",
    "X[numeric_cols] = imputer_num.fit_transform(X[numeric_cols])\n",
    "\n",
    "# 범주형 변수: 최빈값으로 대체\n",
    "imputer_cat = SimpleImputer(strategy='most_frequent')\n",
    "X[categorical_cols] = imputer_cat.fit_transform(X[categorical_cols])"
   ]
  },
  {
   "cell_type": "code",
   "execution_count": 36,
   "metadata": {},
   "outputs": [],
   "source": [
    "label_encoders = {}\n",
    "for col in categorical_cols:\n",
    "    le = LabelEncoder()\n",
    "    X_train[col] = le.fit_transform(X_train[col].astype(str))\n",
    "    label_encoders[col] = le"
   ]
  },
  {
   "cell_type": "code",
   "execution_count": 37,
   "metadata": {},
   "outputs": [
    {
     "data": {
      "text/html": [
       "<style>#sk-container-id-1 {color: black;background-color: white;}#sk-container-id-1 pre{padding: 0;}#sk-container-id-1 div.sk-toggleable {background-color: white;}#sk-container-id-1 label.sk-toggleable__label {cursor: pointer;display: block;width: 100%;margin-bottom: 0;padding: 0.3em;box-sizing: border-box;text-align: center;}#sk-container-id-1 label.sk-toggleable__label-arrow:before {content: \"▸\";float: left;margin-right: 0.25em;color: #696969;}#sk-container-id-1 label.sk-toggleable__label-arrow:hover:before {color: black;}#sk-container-id-1 div.sk-estimator:hover label.sk-toggleable__label-arrow:before {color: black;}#sk-container-id-1 div.sk-toggleable__content {max-height: 0;max-width: 0;overflow: hidden;text-align: left;background-color: #f0f8ff;}#sk-container-id-1 div.sk-toggleable__content pre {margin: 0.2em;color: black;border-radius: 0.25em;background-color: #f0f8ff;}#sk-container-id-1 input.sk-toggleable__control:checked~div.sk-toggleable__content {max-height: 200px;max-width: 100%;overflow: auto;}#sk-container-id-1 input.sk-toggleable__control:checked~label.sk-toggleable__label-arrow:before {content: \"▾\";}#sk-container-id-1 div.sk-estimator input.sk-toggleable__control:checked~label.sk-toggleable__label {background-color: #d4ebff;}#sk-container-id-1 div.sk-label input.sk-toggleable__control:checked~label.sk-toggleable__label {background-color: #d4ebff;}#sk-container-id-1 input.sk-hidden--visually {border: 0;clip: rect(1px 1px 1px 1px);clip: rect(1px, 1px, 1px, 1px);height: 1px;margin: -1px;overflow: hidden;padding: 0;position: absolute;width: 1px;}#sk-container-id-1 div.sk-estimator {font-family: monospace;background-color: #f0f8ff;border: 1px dotted black;border-radius: 0.25em;box-sizing: border-box;margin-bottom: 0.5em;}#sk-container-id-1 div.sk-estimator:hover {background-color: #d4ebff;}#sk-container-id-1 div.sk-parallel-item::after {content: \"\";width: 100%;border-bottom: 1px solid gray;flex-grow: 1;}#sk-container-id-1 div.sk-label:hover label.sk-toggleable__label {background-color: #d4ebff;}#sk-container-id-1 div.sk-serial::before {content: \"\";position: absolute;border-left: 1px solid gray;box-sizing: border-box;top: 0;bottom: 0;left: 50%;z-index: 0;}#sk-container-id-1 div.sk-serial {display: flex;flex-direction: column;align-items: center;background-color: white;padding-right: 0.2em;padding-left: 0.2em;position: relative;}#sk-container-id-1 div.sk-item {position: relative;z-index: 1;}#sk-container-id-1 div.sk-parallel {display: flex;align-items: stretch;justify-content: center;background-color: white;position: relative;}#sk-container-id-1 div.sk-item::before, #sk-container-id-1 div.sk-parallel-item::before {content: \"\";position: absolute;border-left: 1px solid gray;box-sizing: border-box;top: 0;bottom: 0;left: 50%;z-index: -1;}#sk-container-id-1 div.sk-parallel-item {display: flex;flex-direction: column;z-index: 1;position: relative;background-color: white;}#sk-container-id-1 div.sk-parallel-item:first-child::after {align-self: flex-end;width: 50%;}#sk-container-id-1 div.sk-parallel-item:last-child::after {align-self: flex-start;width: 50%;}#sk-container-id-1 div.sk-parallel-item:only-child::after {width: 0;}#sk-container-id-1 div.sk-dashed-wrapped {border: 1px dashed gray;margin: 0 0.4em 0.5em 0.4em;box-sizing: border-box;padding-bottom: 0.4em;background-color: white;}#sk-container-id-1 div.sk-label label {font-family: monospace;font-weight: bold;display: inline-block;line-height: 1.2em;}#sk-container-id-1 div.sk-label-container {text-align: center;}#sk-container-id-1 div.sk-container {/* jupyter's `normalize.less` sets `[hidden] { display: none; }` but bootstrap.min.css set `[hidden] { display: none !important; }` so we also need the `!important` here to be able to override the default hidden behavior on the sphinx rendered scikit-learn.org. See: https://github.com/scikit-learn/scikit-learn/issues/21755 */display: inline-block !important;position: relative;}#sk-container-id-1 div.sk-text-repr-fallback {display: none;}</style><div id=\"sk-container-id-1\" class=\"sk-top-container\"><div class=\"sk-text-repr-fallback\"><pre>RandomForestClassifier(random_state=73)</pre><b>In a Jupyter environment, please rerun this cell to show the HTML representation or trust the notebook. <br />On GitHub, the HTML representation is unable to render, please try loading this page with nbviewer.org.</b></div><div class=\"sk-container\" hidden><div class=\"sk-item\"><div class=\"sk-estimator sk-toggleable\"><input class=\"sk-toggleable__control sk-hidden--visually\" id=\"sk-estimator-id-1\" type=\"checkbox\" checked><label for=\"sk-estimator-id-1\" class=\"sk-toggleable__label sk-toggleable__label-arrow\">RandomForestClassifier</label><div class=\"sk-toggleable__content\"><pre>RandomForestClassifier(random_state=73)</pre></div></div></div></div></div>"
      ],
      "text/plain": [
       "RandomForestClassifier(random_state=73)"
      ]
     },
     "execution_count": 37,
     "metadata": {},
     "output_type": "execute_result"
    }
   ],
   "source": [
    "X_train, X_test, y_train, y_test = train_test_split(X, y, test_size=0.2)\n",
    "rf = RandomForestClassifier(n_estimators=100, random_state= 73)\n",
    "rf.fit(X_train, y_train)"
   ]
  },
  {
   "cell_type": "code",
   "execution_count": 38,
   "metadata": {},
   "outputs": [
    {
     "name": "stdout",
     "output_type": "stream",
     "text": [
      "Classification Report:\n",
      "              precision    recall  f1-score   support\n",
      "\n",
      "           0       0.76      0.91      0.83     37741\n",
      "           1       0.44      0.20      0.27     13530\n",
      "\n",
      "    accuracy                           0.72     51271\n",
      "   macro avg       0.60      0.55      0.55     51271\n",
      "weighted avg       0.67      0.72      0.68     51271\n",
      "\n"
     ]
    }
   ],
   "source": [
    "# 9. 테스트 데이터 예측 및 평가\n",
    "y_pred = rf.predict(X_test)\n",
    "print(\"Classification Report:\")\n",
    "print(classification_report(y_test, y_pred))"
   ]
  },
  {
   "cell_type": "code",
   "execution_count": 40,
   "metadata": {},
   "outputs": [],
   "source": [
    "# 제출 데이터 만들기\n",
    "test = pd.read_csv('/Users/hj/projects/Aimers/data/raw/test.csv')"
   ]
  },
  {
   "cell_type": "code",
   "execution_count": 41,
   "metadata": {},
   "outputs": [],
   "source": [
    "if 'ID' in test.columns:\n",
    "    test_ids = test['ID']\n",
    "else:\n",
    "    test_ids = pd.Series(range(len(test)), name=\"ID\")"
   ]
  },
  {
   "cell_type": "code",
   "execution_count": 42,
   "metadata": {},
   "outputs": [],
   "source": [
    "test = test.drop(columns=drop_cols, errors='ignore')"
   ]
  },
  {
   "cell_type": "code",
   "execution_count": 43,
   "metadata": {},
   "outputs": [
    {
     "ename": "NameError",
     "evalue": "name 'label_encoders' is not defined",
     "output_type": "error",
     "traceback": [
      "\u001b[0;31m---------------------------------------------------------------------------\u001b[0m",
      "\u001b[0;31mNameError\u001b[0m                                 Traceback (most recent call last)",
      "Cell \u001b[0;32mIn[43], line 13\u001b[0m\n\u001b[1;32m     11\u001b[0m \u001b[38;5;66;03m# 3) 범주형 변수: 훈련 시 저장한 LabelEncoder 적용  \u001b[39;00m\n\u001b[1;32m     12\u001b[0m \u001b[38;5;28;01mfor\u001b[39;00m col \u001b[38;5;129;01min\u001b[39;00m test_categorical_cols:\n\u001b[0;32m---> 13\u001b[0m     \u001b[38;5;28;01mif\u001b[39;00m col \u001b[38;5;129;01min\u001b[39;00m \u001b[43mlabel_encoders\u001b[49m:\n\u001b[1;32m     14\u001b[0m         le \u001b[38;5;241m=\u001b[39m label_encoders[col]\n\u001b[1;32m     15\u001b[0m         \u001b[38;5;66;03m# 테스트 데이터에 새로운 범주가 있을 경우, 해당 값을 -1로 처리\u001b[39;00m\n",
      "\u001b[0;31mNameError\u001b[0m: name 'label_encoders' is not defined"
     ]
    }
   ],
   "source": [
    "# 훈련 시 사용한 숫자형, 범주형 칼럼 확인 (테스트 데이터에도 동일한 칼럼명이 있어야 함)\n",
    "test_numeric_cols = test.select_dtypes(include=['int', 'float']).columns\n",
    "test_categorical_cols = test.select_dtypes(include=['object']).columns\n",
    "\n",
    "# 1) 숫자형 변수: 훈련 시 학습한 imputer_num 적용\n",
    "test[test_numeric_cols] = imputer_num.transform(test[test_numeric_cols])\n",
    "\n",
    "# 2) 범주형 변수: 훈련 시 학습한 imputer_cat 적용\n",
    "test[test_categorical_cols] = imputer_cat.transform(test[test_categorical_cols])\n",
    "\n",
    "# 3) 범주형 변수: 훈련 시 저장한 LabelEncoder 적용  \n",
    "for col in test_categorical_cols:\n",
    "    if col in label_encoders:\n",
    "        le = label_encoders[col]\n",
    "        # 테스트 데이터에 새로운 범주가 있을 경우, 해당 값을 -1로 처리\n",
    "        test[col] = test[col].astype(str)\n",
    "        test[col] = test[col].apply(lambda x: le.transform([x])[0] if x in le.classes_ else -1)\n",
    "    else:\n",
    "        # 만약 해당 칼럼에 대해 인코더가 없으면 pass (원래 없었어야 함)\n",
    "        pass\n",
    "\n",
    "# -------------------------------\n",
    "# 4. 테스트 데이터에 대해 예측 수행\n",
    "# -------------------------------\n",
    "predictions = rf.predict(test)\n",
    "\n",
    "# (필요에 따라, 타겟 변수에 원래 문자열 레이블을 복원하려면 아래 주석을 해제)\n",
    "# predictions = le_target.inverse_transform(predictions)\n",
    "\n",
    "# -------------------------------\n",
    "# 5. sample_submission.csv 파일 생성\n",
    "# -------------------------------\n",
    "submission = pd.DataFrame({\n",
    "    'ID': test_ids,\n",
    "    '임신성공여부': predictions\n",
    "})\n",
    "\n",
    "submission.to_csv(\"sample_submission.csv\", index=False)\n",
    "print(\"sample_submission.csv 파일이 생성되었습니다.\")"
   ]
  }
 ],
 "metadata": {
  "kernelspec": {
   "display_name": "Python 3",
   "language": "python",
   "name": "python3"
  },
  "language_info": {
   "codemirror_mode": {
    "name": "ipython",
    "version": 3
   },
   "file_extension": ".py",
   "mimetype": "text/x-python",
   "name": "python",
   "nbconvert_exporter": "python",
   "pygments_lexer": "ipython3",
   "version": "3.11.5"
  }
 },
 "nbformat": 4,
 "nbformat_minor": 2
}
