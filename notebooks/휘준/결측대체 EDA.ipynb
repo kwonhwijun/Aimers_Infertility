{
 "cells": [
  {
   "cell_type": "code",
   "execution_count": 1,
   "metadata": {},
   "outputs": [],
   "source": [
    "from source.func import *"
   ]
  },
  {
   "cell_type": "code",
   "execution_count": 2,
   "metadata": {},
   "outputs": [
    {
     "data": {
      "text/plain": [
       "ID                  0\n",
       "시술 시기 코드            0\n",
       "시술 당시 나이            0\n",
       "시술 유형               0\n",
       "특정 시술 유형            2\n",
       "배란 유도 유형            0\n",
       "배아 생성 주요 이유      6291\n",
       "총 시술 횟수             0\n",
       "클리닉 내 총 시술 횟수       0\n",
       "IVF 시술 횟수           0\n",
       "DI 시술 횟수            0\n",
       "총 임신 횟수             0\n",
       "IVF 임신 횟수           0\n",
       "DI 임신 횟수            0\n",
       "총 출산 횟수             0\n",
       "IVF 출산 횟수           0\n",
       "DI 출산 횟수            0\n",
       "난자 출처               0\n",
       "정자 출처               0\n",
       "난자 기증자 나이           0\n",
       "정자 기증자 나이           0\n",
       "dtype: int64"
      ]
     },
     "execution_count": 2,
     "metadata": {},
     "output_type": "execute_result"
    }
   ],
   "source": [
    "df[df.select_dtypes('object').columns].isna().sum() # 범주형에는 결측이 애초에 거의 없음 "
   ]
  },
  {
   "cell_type": "code",
   "execution_count": 6,
   "metadata": {},
   "outputs": [
    {
     "data": {
      "text/plain": [
       "float64    29\n",
       "object     21\n",
       "int64      19\n",
       "Name: count, dtype: int64"
      ]
     },
     "execution_count": 6,
     "metadata": {},
     "output_type": "execute_result"
    }
   ],
   "source": [
    "df.dtypes.value_counts()"
   ]
  },
  {
   "cell_type": "code",
   "execution_count": null,
   "metadata": {},
   "outputs": [
    {
     "data": {
      "text/plain": [
       "임신 시도 또는 마지막 임신 경과 연수    246981\n",
       "단일 배아 이식 여부                6291\n",
       "착상 전 유전 검사 사용 여부         253633\n",
       "착상 전 유전 진단 사용 여부           6291\n",
       "총 생성 배아 수                  6291\n",
       "미세주입된 난자 수                 6291\n",
       "미세주입에서 생성된 배아 수            6291\n",
       "이식된 배아 수                   6291\n",
       "미세주입 배아 이식 수               6291\n",
       "저장된 배아 수                   6291\n",
       "미세주입 후 저장된 배아 수            6291\n",
       "해동된 배아 수                   6291\n",
       "해동 난자 수                    6291\n",
       "수집된 신선 난자 수                6291\n",
       "저장된 신선 난자 수                6291\n",
       "혼합된 난자 수                   6291\n",
       "파트너 정자와 혼합된 난자 수           6291\n",
       "기증자 정자와 혼합된 난자 수           6291\n",
       "동결 배아 사용 여부                6291\n",
       "신선 배아 사용 여부                6291\n",
       "기증 배아 사용 여부                6291\n",
       "대리모 여부                     6291\n",
       "PGD 시술 여부                254172\n",
       "PGS 시술 여부                254422\n",
       "난자 채취 경과일                 57488\n",
       "난자 해동 경과일                254915\n",
       "난자 혼합 경과일                 53735\n",
       "배아 이식 경과일                 43566\n",
       "배아 해동 경과일                215982\n",
       "dtype: int64"
      ]
     },
     "execution_count": 7,
     "metadata": {},
     "output_type": "execute_result"
    }
   ],
   "source": [
    "df[df.select_dtypes('float64').columns].isna().sum() # float에 6291 결측이 많음 "
   ]
  },
  {
   "cell_type": "code",
   "execution_count": 11,
   "metadata": {},
   "outputs": [
    {
     "data": {
      "text/plain": [
       "임신 시도 또는 마지막 임신 경과 연수    240993\n",
       "단일 배아 이식 여부                   0\n",
       "착상 전 유전 검사 사용 여부         247342\n",
       "착상 전 유전 진단 사용 여부              0\n",
       "총 생성 배아 수                     0\n",
       "미세주입된 난자 수                    0\n",
       "미세주입에서 생성된 배아 수               0\n",
       "이식된 배아 수                      0\n",
       "미세주입 배아 이식 수                  0\n",
       "저장된 배아 수                      0\n",
       "미세주입 후 저장된 배아 수               0\n",
       "해동된 배아 수                      0\n",
       "해동 난자 수                       0\n",
       "수집된 신선 난자 수                   0\n",
       "저장된 신선 난자 수                   0\n",
       "혼합된 난자 수                      0\n",
       "파트너 정자와 혼합된 난자 수              0\n",
       "기증자 정자와 혼합된 난자 수              0\n",
       "동결 배아 사용 여부                   0\n",
       "신선 배아 사용 여부                   0\n",
       "기증 배아 사용 여부                   0\n",
       "대리모 여부                        0\n",
       "PGD 시술 여부                247881\n",
       "PGS 시술 여부                248131\n",
       "난자 채취 경과일                 51197\n",
       "난자 해동 경과일                248624\n",
       "난자 혼합 경과일                 47444\n",
       "배아 이식 경과일                 37275\n",
       "배아 해동 경과일                209691\n",
       "dtype: int64"
      ]
     },
     "execution_count": 11,
     "metadata": {},
     "output_type": "execute_result"
    }
   ],
   "source": [
    "df = df[df.isna().sum(axis = 1) < 15]\n",
    "df[df.select_dtypes('float64').columns].isna().sum() "
   ]
  },
  {
   "cell_type": "code",
   "execution_count": 8,
   "metadata": {},
   "outputs": [
    {
     "data": {
      "text/plain": [
       "배란 자극 여부              0\n",
       "남성 주 불임 원인            0\n",
       "남성 부 불임 원인            0\n",
       "여성 주 불임 원인            0\n",
       "여성 부 불임 원인            0\n",
       "부부 주 불임 원인            0\n",
       "부부 부 불임 원인            0\n",
       "불명확 불임 원인             0\n",
       "불임 원인 - 난관 질환         0\n",
       "불임 원인 - 남성 요인         0\n",
       "불임 원인 - 배란 장애         0\n",
       "불임 원인 - 여성 요인         0\n",
       "불임 원인 - 자궁경부 문제       0\n",
       "불임 원인 - 자궁내막증         0\n",
       "불임 원인 - 정자 농도         0\n",
       "불임 원인 - 정자 면역학적 요인    0\n",
       "불임 원인 - 정자 운동성        0\n",
       "불임 원인 - 정자 형태         0\n",
       "임신 성공 여부              0\n",
       "dtype: int64"
      ]
     },
     "execution_count": 8,
     "metadata": {},
     "output_type": "execute_result"
    }
   ],
   "source": [
    "df[df.select_dtypes('int64').columns].isna().sum() # int64에는 결측이 없음"
   ]
  }
 ],
 "metadata": {
  "kernelspec": {
   "display_name": "venv",
   "language": "python",
   "name": "python3"
  },
  "language_info": {
   "codemirror_mode": {
    "name": "ipython",
    "version": 3
   },
   "file_extension": ".py",
   "mimetype": "text/x-python",
   "name": "python",
   "nbconvert_exporter": "python",
   "pygments_lexer": "ipython3",
   "version": "3.12.4"
  }
 },
 "nbformat": 4,
 "nbformat_minor": 2
}
